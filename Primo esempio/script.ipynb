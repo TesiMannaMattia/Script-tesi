{
 "cells": [
  {
   "cell_type": "markdown",
   "id": "bf563e23-f349-4997-9d4d-65b4e917338d",
   "metadata": {},
   "source": [
    "# BeautifulSoup"
   ]
  },
  {
   "cell_type": "markdown",
   "id": "7b8fff08-7bad-4ab6-81e1-352421d8ee01",
   "metadata": {},
   "source": [
    "## Il metodo GET\n",
    "Il metodo GET è il metodo più basilare per effettuare scraping.  \n",
    "Proprio perchè è il più basilare non funziona su siti che richiedono interazioni."
   ]
  },
  {
   "cell_type": "markdown",
   "id": "1f8e31ca-2ac0-4414-8da1-a1bb9f4f5e87",
   "metadata": {},
   "source": [
    "### Importazione pacchetti"
   ]
  },
  {
   "cell_type": "code",
   "execution_count": 2,
   "id": "ae46d88b-c80a-44bf-9cd1-37819a6799ad",
   "metadata": {},
   "outputs": [],
   "source": [
    "import requests\n",
    "import warnings \n",
    "from urllib.request import urlopen\n",
    "import time \n",
    "from bs4 import BeautifulSoup\n",
    "import re"
   ]
  },
  {
   "cell_type": "markdown",
   "id": "a7b3fa68-cfcf-4a91-8b4d-bae5aea20b80",
   "metadata": {},
   "source": [
    "### Ottenere dati da un sito ed estrarne html"
   ]
  },
  {
   "cell_type": "code",
   "execution_count": null,
   "id": "92444521-41b4-4cb1-9f00-d408ac10349b",
   "metadata": {},
   "outputs": [],
   "source": [
    "url='http://web.mta.info/developers/turnstile.html' #link del sito\n",
    "risposta=requests.get(url)                          #ottenere dati dal sito\n",
    "testo=BeautifulSoup(risposta.text,'html.parser')    #estrarre html"
   ]
  },
  {
   "cell_type": "markdown",
   "id": "5492b128-84c0-4817-b522-4c3eaf209938",
   "metadata": {},
   "source": [
    "### Estrazione degli elementi ricercati dall'html ed esportazione dei dati estratti in formato csv"
   ]
  },
  {
   "cell_type": "code",
   "execution_count": null,
   "id": "f152097a-0f97-4c8f-b0ff-d3bc53722736",
   "metadata": {},
   "outputs": [],
   "source": [
    "lista=testo.find_all(href=re.compile(\".txt\"))[2:22]\n",
    "dati=[]\n",
    "for i in range(len(lista)):\n",
    "    #In questa parte si aprono singolarmente i link e se ne estrae il testo.\n",
    "    url1='http://web.mta.info/developers/'+lista[i].get('href')\n",
    "    risposta1=requests.get(url1)\n",
    "    testo1=BeautifulSoup(risposta1.text,'html.parser')\n",
    "    \n",
    "    #In questa parte si scrivono i dati in formato csv\n",
    "    print('Inizio scrittura')\n",
    "    f= open(\"/Users/mattia/Desktop/prova/dati\"+i+\".txt\",\"w+\")\n",
    "    f.write((str(testo1)))\n",
    "    f.close() \n",
    "\n",
    "print('Finito')"
   ]
  }
 ],
 "metadata": {
  "kernelspec": {
   "display_name": "Python 3 (ipykernel)",
   "language": "python",
   "name": "python3"
  },
  "language_info": {
   "codemirror_mode": {
    "name": "ipython",
    "version": 3
   },
   "file_extension": ".py",
   "mimetype": "text/x-python",
   "name": "python",
   "nbconvert_exporter": "python",
   "pygments_lexer": "ipython3",
   "version": "3.10.4"
  }
 },
 "nbformat": 4,
 "nbformat_minor": 5
}
