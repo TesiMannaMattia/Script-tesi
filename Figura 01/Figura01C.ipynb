{
  "nbformat": 4,
  "nbformat_minor": 0,
  "metadata": {
    "colab": {
      "provenance": []
    },
    "kernelspec": {
      "name": "python3",
      "display_name": "Python 3"
    },
    "language_info": {
      "name": "python"
    }
  },
  "cells": [
    {
      "cell_type": "code",
      "execution_count": null,
      "metadata": {
        "id": "PPFSCuhYqIAw"
      },
      "outputs": [],
      "source": [
        "#Importazione pacchetti:\n",
        "import pandas as pd\n",
        "import csv\n",
        "def Time_series(date, per):\n",
        "date_series = pd.date_range(date, periods=per)\n",
        "Result = pd.Series(date_series)\n",
        "return Result\n",
        "# Data in formato YYYY-MM-DD\n",
        "date = \"2020-01-03\"\n",
        "per = 966\n",
        "date=Time_series(date, per)\n",
        "#Esportazione in csv\n",
        "date.to_csv(’/Users/mattia/Desktop/Trading/Dataset/Date.csv’)\n"
      ]
    }
  ]
}
