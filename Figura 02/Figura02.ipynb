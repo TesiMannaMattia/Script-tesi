{
  "nbformat": 4,
  "nbformat_minor": 0,
  "metadata": {
    "colab": {
      "provenance": []
    },
    "kernelspec": {
      "name": "python3",
      "display_name": "Python 3"
    },
    "language_info": {
      "name": "python"
    }
  },
  "cells": [
    {
      "cell_type": "code",
      "execution_count": null,
      "metadata": {
        "id": "uW8gegrmtB9L"
      },
      "outputs": [],
      "source": [
        "library(stringr)\n",
        "library(XML)\n",
        "library(maps)\n",
        "library(httr)\n",
        "library(janitor)\n",
        "library(stringi)\n",
        "url <- \"https://en.wikipedia.org/wiki/List_of_World_Heritage_in_Danger\"\n",
        "doc <- htmlParse(rawToChar(GET(url)$content))\n",
        "dati_formattati_heritage <- readHTMLTable(doc,stringsAsFactors=FALSE) #uguale a prima.\n",
        "danger_table <- dati_formattati_heritage[[2]]\n",
        "danger_table <- janitor::row_to_names(danger_table, 1, remove_rows_above = FALSE)\n",
        "names(danger_table)\n",
        "colnames(danger_table) <- c(\"name\",\"locn\",\"crit\",\"yins\",\"yend\")\n",
        "danger_table$Criteria <- ifelse(str_detect(danger_table$Criteria,\n",
        "\"Natural\")== TRUE, \"nat\",\"cult\")\n",
        "Endangered_clean <- str_extract_all(danger_table$Endangered, \"^[[:digit:]]{4}\")\n",
        "danger_table$Endangered <- Endangered_clean\n",
        "Endangered_clean <- as.numeric(stri_extract_last_regex(danger_table$Endangered, \"\\\\d{4}\"))\n",
        "#Impostazioni per l’estrazione, sono state ottenute osservando la scrittura della\n",
        "#variabile location\n",
        "reg_y <- \"[/][ -]*[[:digit:]]*[.]*[[:digit:]]*[;]\"\n",
        "reg_x <- \"[;][ -]*[[:digit:]]*[.]*[[:digit:]]*\"\n",
        "#Prima coordinata e creazione di nuova variabile\n",
        "y_coords <- str_extract(danger_table$Location,reg_y)\n",
        "y_coords <- as.numeric(str_sub(y_coords, 3, -2))\n",
        "danger_table$y_coords <- round(y_coords,2) #approssimazione alla seconda cifra decimale\n",
        "#Seconda coordinata e creazione di nuova variabile\n",
        "x_coords <- str_extract(danger_table$Location,reg_x)\n",
        "x_coords <- as.numeric(str_sub(x_coords, 3, -1))\n",
        "danger_table$x_coords <- round(x_coords,2) #approssimazione alla seconda cifra decimale\n",
        "#Cancellazione della vecchia variabile\n",
        "danger_table$Location <- NULL\n",
        "pch <- ifelse(danger_table$Criteria ==\"nat\",19,2)\n",
        "map(\"world\", col=\"darkgrey\", lwd= 0.5, mar=c(0.1,0.1,0.1,0.1))\n",
        "points(danger_table$x_coords,danger_table$y_coords,pch=pch)\n",
        "box()"
      ]
    }
  ]
}