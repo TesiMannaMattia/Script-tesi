{
  "nbformat": 4,
  "nbformat_minor": 0,
  "metadata": {
    "colab": {
      "provenance": [],
      "collapsed_sections": []
    },
    "kernelspec": {
      "name": "python3",
      "display_name": "Python 3"
    },
    "language_info": {
      "name": "python"
    }
  },
  "cells": [
    {
      "cell_type": "markdown",
      "source": [
        "# Importazione ed esportazione dei dati sul BTC\n",
        "\n"
      ],
      "metadata": {
        "id": "Jwk0iBLwl6CP"
      }
    },
    {
      "cell_type": "code",
      "execution_count": null,
      "metadata": {
        "id": "Enyv071OlnwS"
      },
      "outputs": [],
      "source": [
        "#Importazione pacchetti:\n",
        "from binance import Client, ThreadedWebsocketManager, ThreadedDepthCacheManager\n",
        "import pandas as pd\n",
        "import datetime\n",
        "import re\n",
        "import requests\n",
        "import regex\n",
        "import csv\n",
        "\n",
        "#Definizione chiavi (test) binance\n",
        "apikey = \"xxxx\"\n",
        "apisecret = \"xxxx\"\n",
        "\n",
        "#Connessione\n",
        "client = Client(apikey, apisecret)\n",
        "print(\"Connessione....\")\n",
        "\n",
        "#Trovare informazioni su singola valuta in euro.\n",
        "depth = client.get_order_book(symbol=’BTCEUR’)\n",
        "\n",
        "#Visualizzare meglio i dati tramite pandas\n",
        "depth_dataframe = pd.DataFrame(depth[’asks’])\n",
        "depth_dataframe.columns = [’Price’, ’Volume’]\n",
        "oggetto=depth_dataframe.head()\n",
        "\n",
        "#PRENDERE DATI STORICI\n",
        "depth_dataframe.dtypes\n",
        "timestamp = client._get_earliest_valid_timestamp(’BTCUSDT’, ’1d’)\n",
        "bars = client.get_historical_klines(’BTCEUR’, ’1d’, timestamp, limit=1000)\n",
        "\n",
        "#Salvare i dati in CSV\n",
        "with open(’/Users/mattia/Desktop/Trading/btc_bars.csv’, ’w+’, newline=’’) as f:\n",
        "  wr = csv.writer(f)\n",
        "  for line in bars:\n",
        "    wr.writerow(line)"
      ]
    }
  ]
}