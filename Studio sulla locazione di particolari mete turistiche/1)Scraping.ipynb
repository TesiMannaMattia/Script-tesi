{
 "cells": [
  {
   "cell_type": "code",
   "execution_count": 2,
   "id": "1bce303e",
   "metadata": {},
   "outputs": [],
   "source": [
    "import requests\n",
    "import warnings \n",
    "from urllib.request import urlopen\n",
    "import time \n",
    "from bs4 import BeautifulSoup\n",
    "import re\n",
    "from  tqdm import tqdm\n",
    "from datetime import datetime\n",
    "import re\n",
    "import pandas as pd"
   ]
  },
  {
   "cell_type": "markdown",
   "id": "73d3343e",
   "metadata": {},
   "source": [
    "# 1"
   ]
  },
  {
   "cell_type": "markdown",
   "id": "4979a967",
   "metadata": {},
   "source": [
    "## 1.1. Ottenenere la lista dei link dei luoghi"
   ]
  },
  {
   "cell_type": "code",
   "execution_count": 3,
   "id": "9f0efe6c",
   "metadata": {
    "tags": []
   },
   "outputs": [
    {
     "name": "stderr",
     "output_type": "stream",
     "text": [
      "100%|█████████████████████████████████████████| 400/400 [12:46<00:00,  1.92s/it]\n"
     ]
    }
   ],
   "source": [
    "exception=[]  #In questa lista vengono collocate le pagine web che danno problemi, se ci sono.\n",
    "\n",
    "\n",
    "#Dal momento che le pagine web contengono dei numeri utilizziamo dei cicli for per cambiare il link delle pagine.\n",
    "\n",
    "for i in tqdm(range(1,401)):\n",
    "    url='https://www.atlasobscura.com/places?page='+str(i)+'&sort=likes_count' #Muoversi alla pagina successiva\n",
    "    risposta=requests.get(url)                                                 #Richiedere  protocollo    https    \n",
    "    testo=BeautifulSoup(risposta.text,'html.parser')                           #Formattare HTML\n",
    "    \n",
    "    try:\n",
    "        first_div=testo.find_all(\"div\",{\"class\":\"row vue-js-bte-place-parent js-vue-component-wrap\"}) #Trovare la tag\n",
    "        \n",
    "        \n",
    "        for j in range(0,len(first_div)):\n",
    "            try:\n",
    "                second_div=first_div[j].find_all(\"div\",{\"class\":\"col-md-4 col-sm-6 col-xs-12\"})\n",
    "    \n",
    "                for k in range(0,len(second_div)):\n",
    "                    try:\n",
    "                        a=second_div[k].find(\"a\").get(\"href\").strip()    #Estrazione del link della pagina\n",
    "                     \n",
    "                        with open('links.txt',\"a\")as f:\n",
    "                            f.write(\"https://www.atlasobscura.com\"+str(a))  #Scrivere su un file txt il link della pagina\n",
    "                            f.write('\\n')\n",
    "                    except:\n",
    "                        exception.append([i,j,k,risposta])      \n",
    "            except:\n",
    "                exception.append([i,j,None,risposta])   \n",
    "    except:\n",
    "        exception.append([i,None,None,risposta])\n",
    "        \n",
    "    \n",
    "    time.sleep(1) #In ordere to avoid \"429 Too Many Requests\"\n",
    "       \n",
    "            \n",
    "        "
   ]
  },
  {
   "cell_type": "markdown",
   "id": "31bb81c0",
   "metadata": {},
   "source": [
    "## 1.2. Crawl places"
   ]
  },
  {
   "cell_type": "code",
   "execution_count": 29,
   "id": "31238370",
   "metadata": {},
   "outputs": [
    {
     "name": "stderr",
     "output_type": "stream",
     "text": [
      "100%|██████████| 7200/7200 [2:18:44<00:00,  1.16s/it]  \n"
     ]
    }
   ],
   "source": [
    "file = open('links.txt')\n",
    "content = file.readlines()\n",
    "for i in tqdm(range(0,len(content))):\n",
    "    url=content[i].strip()    \n",
    "    risposta=requests.get(url)                                               \n",
    "    with open('HTML/html'+str(i)+'.txt',\"a\")as f:\n",
    "        f.write(risposta.text)  #Scrivere sul file txt il link della sito del luogo.\n",
    "    time.sleep(1)\n"
   ]
  },
  {
   "cell_type": "markdown",
   "id": "7204deea",
   "metadata": {},
   "source": [
    "## 1.3 Parse downloaded pages"
   ]
  },
  {
   "cell_type": "markdown",
   "id": "b7fad887",
   "metadata": {},
   "source": [
    "### Function that extract data from single HTML"
   ]
  },
  {
   "cell_type": "code",
   "execution_count": 28,
   "id": "8747ccea",
   "metadata": {},
   "outputs": [],
   "source": [
    "def estrazione(testo):  \n",
    "    errors=[]\n",
    "    #1 Nome del luogo\n",
    "    try:\n",
    "        placeName=testo.find(\"h1\",{\"class\":\"DDPage__header-title\"}).text.strip()\n",
    "    except:\n",
    "        placeName=\"Null\"\n",
    "        errors.append(1)\n",
    "    #---#\n",
    "    #2 Tag del luogo\n",
    "    try:\n",
    "        placeTags=[]\n",
    "        ff2=testo.find(\"div\",{\"class\":\"item-tags col-xs-12\"})\n",
    "        ff2=ff2.find_all(\"span\")\n",
    "        for i in range(len(ff2)):\n",
    "            placeTags.append(ff2[i].find(\"a\").text.strip())\n",
    "    except:\n",
    "        placeTags=[\" \"]\n",
    "        errors.append(2)\n",
    "\n",
    "\n",
    "\n",
    "    #---#\n",
    "    conta=testo.find_all(\"div\",{\"class\",\"title-md item-action-count\"})\n",
    "\n",
    "    #3 Numero di persone che hanno visitato il luogo.\n",
    "    try:\n",
    "        numPeopleVisited=conta[0].text.strip()\n",
    "    except:\n",
    "        numPeopleVisited=\" \"\n",
    "        errors.append(3)\n",
    "    #---#\n",
    "    #4   Numero di persone che vogliono visitare il luogo\n",
    "    try:\n",
    "        numPeopleWant=conta[1].text.strip()\n",
    "    except:\n",
    "        numPeopleWant=\" \"\n",
    "        errors.append(4)\n",
    "    #---#\n",
    "    #5 Descrizione del luogo\n",
    "    try:\n",
    "        tag=testo.find(\"div\",{\"class\":\"DDP__body-copy\"})\n",
    "        tag=tag.find_all(\"p\")\n",
    "        placeDesc=\"\"\n",
    "        for i in range(0,len(tag)):\n",
    "            placeDesc += str(tag[i].text)\n",
    "            \n",
    "        placeDesc=placeDesc.replace(\"  \",\"\")    \n",
    "    except:\n",
    "        placeDesc=\"\"\n",
    "        errors.append(5)\n",
    "\n",
    "    #6 Breve descrizione del luogo\n",
    "    placeShortDesc=\"\"\n",
    "    try:\n",
    "        placeShortDesc2=testo.find(\"h3\", {\"class\",\"DDPage__header-dek\"}).text.strip()\n",
    "        \n",
    "    except:\n",
    "        placeShortDesc2=\" \"\n",
    "        errors.append(6.2)\n",
    "    placeShortDesc += placeShortDesc2\n",
    "    \n",
    "    placeShortDesc=placeShortDesc.replace(\"  \",\"\")    \n",
    "    #7 Luoghi vicini\n",
    "    placeNearby=[]\n",
    "    try:\n",
    "        place=testo.find(\"div\",{\"class\":\"DDPageSiderail__column grid-col-lg-4 grid-col-md-5\"})\n",
    "        place=place.find(\"div\",{\"class\":\"DDPageSiderail\"})\n",
    "        place=place.find(\"div\", {\"class\":\"DDPageSiderailRecirc\"})\n",
    "        place=place.find_all(\"a\")\n",
    "        for i in range(0,len(place)):\n",
    "            luogo=place[i].find(\"div\",{\"class\":\"DDPageSiderailRecirc__item-title\"})\n",
    "            placeNearby.append(luogo.text.strip())\n",
    "    except:\n",
    "        placeNearby=[\" \"]\n",
    "        errors.append(7)\n",
    "    #8 Indirizzo\n",
    "    try:\n",
    "        placeAddress=testo.find(\"div\",{\"class\":\"DDPageSiderail__column grid-col-lg-4 grid-col-md-5\"})\n",
    "        placeAddress=placeAddress.find(\"div\",{\"class\":\"DDPageSiderail\"})\n",
    "        placeAddress=placeAddress.find(\"aside\", {\"class\":\"DDPageSiderail__details\"})\n",
    "        placeAddress0=placeAddress.find(\"address\",{\"class\":\"DDPageSiderail__address\"})\n",
    "        \n",
    "        placeAddress=placeAddress0.find(\"div\").get_text(\",\").strip().rstrip(',').strip()\n",
    "  \n",
    "       \n",
    "    except:\n",
    "        placeAddress=\"\"\n",
    "        errors.append(8)\n",
    "    \n",
    "    try:\n",
    "              \n",
    "        placeAddress1=str(placeAddress0.find(\"div\"))\n",
    "        a=placeAddress1.replace(\"<div>\",\"\")\n",
    "        a=a.replace(\"</div>\",\"\")\n",
    "        indirizzo,citta,stato=a.split(\"<br/>\")\n",
    "    except:\n",
    "        try:\n",
    "            stato=placeAddress.split(\",\")\n",
    "            stato=stato[len(stato)-1]\n",
    "            indirizzo=\"Not available\"\n",
    "            citta=\"Not available\"     \n",
    "        except:\n",
    "            indirizzo=\"Not available\"\n",
    "            citta=\"Not available\"\n",
    "            stato=\"Not available\"\n",
    "        \n",
    "    \n",
    "    #9 Latitudine e  longitudine\n",
    "    try:\n",
    "        coordinate=testo.find(\"div\",{\"class\":\"DDPageSiderail__column grid-col-lg-4 grid-col-md-5\"})\n",
    "        coordinate=coordinate.find(\"div\",{\"class\":\"DDPageSiderail\"})\n",
    "        coordinate=coordinate.find(\"aside\", {\"class\":\"DDPageSiderail__details\"})\n",
    "        coordinate=coordinate.find(\"div\",{\"class\":\"DDPageSiderail__coordinates js-copy-coordinates\"}).text.strip().split()\n",
    "\n",
    "        placeAlt=float(coordinate[0].replace(\",\",\"\"))\n",
    "        placeLong=float(coordinate[1].replace(\",\",\"\"))\n",
    "    except:\n",
    "        placeAlt=\" \"\n",
    "        placeLong=\" \"\n",
    "        errors.append(9)\n",
    "\n",
    "    #10 Nome degli editor e di chi contribuisce alla pagina dedicata al luogo.\n",
    "    placeEditors=[]\n",
    "    createdby=[]\n",
    "    Editors=testo.find(\"div\",{\"id\":\"ugc-module\"})\n",
    "    Editors=Editors.find(\"div\",{\"class\":\"DDPContributors\"})\n",
    "    Editors=Editors.find_all(\"div\",{\"class\":\"ugc-editors\"})\n",
    "\n",
    "    try:\n",
    "        for i in range(0,len(Editors)):\n",
    "            tipo=Editors[i].find(\"h6\").text.strip()\n",
    "            if \"edited by\" == tipo.lower():\n",
    "                try:\n",
    "                    g=Editors[i].find(\"div\",{\"class\":\"DDPContributorsList\"})\n",
    "                    g=g.find(\"div\",{\"class\":\"js-editor-list hidden\"})\n",
    "                    g=g.find_all(\"li\")\n",
    "                    for  i in range(0,len(g)):\n",
    "                        a=g[i].find(\"a\").find(\"span\").text.strip()\n",
    "                        placeEditors.append(a)\n",
    "                except:\n",
    "                    placeEditors=[\" \"]\n",
    "                    #errors.append(10.1)\n",
    "                    \n",
    "            elif \"added by\"==tipo.lower():\n",
    "                try:\n",
    "                    creator=Editors[i].find(\"div\",{\"class\":\"DDPContributorsList\"})\n",
    "                    createdby.append(creator.find(\"a\").text)\n",
    "                except:\n",
    "                    createdby=[\" \"]\n",
    "                   # errors.append(10.2)\n",
    "    except:\n",
    "        createdby=[\" \"]\n",
    "        placeEditors=[\" \"] \n",
    "        errors.append(10)\n",
    "    placeEditors=\",\".join(placeEditors)\n",
    "    createdby=\",\".join(createdby)\n",
    "\n",
    "\n",
    "    #11 Data di pubblicazione\n",
    "    try:\n",
    "        placePubDate=testo.find(\"div\",{\"id\":\"ugc-module\"})\n",
    "        placePubDate=placePubDate.find(\"div\",{\"class\":\"DDPContributors\"})\n",
    "        placePubDate=placePubDate.find(\"div\",{\"class\":\"DDPContributor__name\"}).text.strip()\n",
    "        placePubDate=datetime.strptime(placePubDate, \"%B %d, %Y\").date() #year, month, day\n",
    "    except:\n",
    "        placePubDate=\" \"\n",
    "        errors.append(11)\n",
    "\n",
    "    #12 Nome della lista in cui il luogo è compreso\n",
    "    placeRelatedLists=[]\n",
    "    try:\n",
    "        o=testo.find_all(\"div\",{\"class\":\"card-grid CardRecircSection__card-grid js-inject-gtm-data-in-child-links\"})\n",
    "        o=o[2].find_all(\"div\",{\"class\":\"CardWrapper js-CardWrapper\"})\n",
    "        for i in range(len(o)):\n",
    "            m=o[i].find(\"h3\").text.strip()\n",
    "            placeRelatedLists.append(m)\n",
    "    except:\n",
    "        placeRelatedLists=[\" \"]\n",
    "        errors.append(12)\n",
    "\n",
    "    #13 Nome dei luoghi correlati\n",
    "    placeRelatedPlaces=[]\n",
    "    try:\n",
    "        o=testo.find_all(\"div\",{\"class\":\"card-grid CardRecircSection__card-grid js-inject-gtm-data-in-child-links\"})\n",
    "        o=o[1].find_all(\"div\",{\"class\":\"CardWrapper js-CardWrapper\"})\n",
    "        for i in range(len(o)):\n",
    "            m=o[i].find(\"h3\").text.strip()\n",
    "            placeRelatedPlaces.append(m)\n",
    "    except:\n",
    "        placeRelatedPlaces=[\" \"]\n",
    "        errors.append(13)\n",
    "\n",
    "    #14 Link della luogo\n",
    "    try:\n",
    "        placeURL=testo.find(\"link\",{\"rel\":\"canonical\"}).get(\"href\")\n",
    "    except:\n",
    "        placeURL=\" \"\n",
    "        errors.append(14)\n",
    "    \n",
    "    \n",
    "\n",
    "    try:\n",
    "        link=testo.find(\"div\",{\"class\":\"DDPage__header-place-location\"})\n",
    "        link=link.find(\"a\").get(\"href\").strip()\n",
    "    except:\n",
    "        link=\" \"\n",
    "       \n",
    "    \n",
    "    d={\"placeName\":placeName,\"placeTags\": \",\".join(placeTags),\"numPeopleVisited\":int(numPeopleVisited),\"numPeopleWant\":int(numPeopleWant),\"placeDesc\":placeDesc,\"placeShortDesc\":placeShortDesc,\n",
    "    \"placeNearby\":\",\".join(placeNearby),\"placeAddress\":placeAddress.strip(),\"placeAlt\":placeAlt,\"placeLong\":placeLong,\"createdby\":createdby,\"placeEditors\":placeEditors,\"placePubDate\":placePubDate,\n",
    "    \"placeRelatedLists\":\",\".join(placeRelatedLists),\"placeRelatedPlaces\":\",\".join(placeRelatedPlaces),\"placeURL\":placeURL}\n",
    "    \n",
    "    d_indirizzo={\"placeName\":placeName,\"placeTags\": \",\".join(placeTags),\"numPeopleVisited\":int(numPeopleVisited),\"numPeopleWant\":int(numPeopleWant),\"placeDesc\":placeDesc,\"placeShortDesc\":placeShortDesc,\n",
    "    \"placeNearby\":\",\".join(placeNearby),\"placeAddress\":placeAddress.strip(),\"placeAlt\":placeAlt,\"placeLong\":placeLong,\"createdby\":createdby,\"placeEditors\":placeEditors,\"placePubDate\":placePubDate,\n",
    "    \"placeRelatedLists\":\",\".join(placeRelatedLists),\"placeRelatedPlaces\":\",\".join(placeRelatedPlaces),\"placeURL\":placeURL,\"Address\":indirizzo.strip(),\"City\":citta.strip(),\"State\":stato.strip()}\n",
    "    \n",
    "    return  d,errors,d_indirizzo    "
   ]
  },
  {
   "cell_type": "markdown",
   "id": "74f15361",
   "metadata": {},
   "source": [
    "## Create dataframe"
   ]
  },
  {
   "cell_type": "markdown",
   "id": "8e60a2d3",
   "metadata": {},
   "source": [
    "#### Create 7200 tsv files, place_i.tsv and one csv file"
   ]
  },
  {
   "cell_type": "code",
   "execution_count": 29,
   "id": "52bbac9c",
   "metadata": {
    "tags": []
   },
   "outputs": [
    {
     "name": "stderr",
     "output_type": "stream",
     "text": [
      "100%|███████████████████████████████████████| 7200/7200 [10:45<00:00, 11.15it/s]\n"
     ]
    }
   ],
   "source": [
    "anomalie={}\n",
    "for i in tqdm(range(0,7200)):\n",
    "    \n",
    "    with open('HTML_scraping/html'+str(i)+'.txt') as f:\n",
    "        testo = f.read()\n",
    "\n",
    "    testo=BeautifulSoup(testo,'html.parser') \n",
    "    d,errori,d_indirizzo=estrazione(testo)\n",
    "    \n",
    "    if len(errori) != 0:\n",
    "        anomalie[str(i)]=errori\n",
    "        \n",
    "    df=pd.DataFrame(d,index=[0])\n",
    "   \n",
    "    \n",
    "    df.to_csv(\"TSV_data/place_\"+str(i)+\".tsv\",sep=\"\\t\")\n",
    "    if i==0 :\n",
    "      dfff=pd.DataFrame(d,index=[i])\n",
    "      dfff_indirizzo=pd.DataFrame(d_indirizzo,index=[0])\n",
    "    \n",
    "    else:\n",
    "      dataframe=pd.DataFrame(d,index=[i])\n",
    "      dfff=pd.concat([dfff,dataframe])\n",
    "        \n",
    "        \n",
    "      dataframe_indirizzo=pd.DataFrame(d_indirizzo,index=[i])\n",
    "      dfff_indirizzo=pd.concat([dfff_indirizzo,dataframe_indirizzo])\n",
    "        \n",
    "dfff.to_csv(\"places4.csv\",sep=\"\\t\")\n",
    "dfff_indirizzo.to_csv(\"address.csv\",sep=\"\\t\")"
   ]
  },
  {
   "cell_type": "markdown",
   "id": "6dc6531d",
   "metadata": {},
   "source": [
    "#### Overview of the dataset"
   ]
  },
  {
   "cell_type": "code",
   "execution_count": 30,
   "id": "522fd24d",
   "metadata": {},
   "outputs": [
    {
     "data": {
      "text/plain": [
       "(7200, 17)"
      ]
     },
     "execution_count": 30,
     "metadata": {},
     "output_type": "execute_result"
    }
   ],
   "source": [
    "df=pd.read_csv(\"places4.csv\",delimiter=\"\\t\")\n",
    "df.shape"
   ]
  },
  {
   "cell_type": "code",
   "execution_count": 31,
   "id": "f5d9ceab-2107-4a1a-9b4d-4bfac6707aa1",
   "metadata": {
    "tags": []
   },
   "outputs": [
    {
     "data": {
      "text/plain": [
       "(7200, 20)"
      ]
     },
     "execution_count": 31,
     "metadata": {},
     "output_type": "execute_result"
    }
   ],
   "source": [
    "df=pd.read_csv(\"address.csv\",delimiter=\"\\t\")\n",
    "df.shape"
   ]
  },
  {
   "cell_type": "markdown",
   "id": "16ef2c31",
   "metadata": {},
   "source": [
    "#### Analysis of the errors"
   ]
  },
  {
   "cell_type": "code",
   "execution_count": 41,
   "id": "6c5754b4",
   "metadata": {},
   "outputs": [],
   "source": [
    "with open('anomalie.txt',\"w\")as f:\n",
    "    for i in anomalie.keys():\n",
    "        f.write(i)\n",
    "        f.write(str(anomalie[i]))\n",
    "        f.write(\"\\n\")"
   ]
  }
 ],
 "metadata": {
  "kernelspec": {
   "display_name": "Python 3 (ipykernel)",
   "language": "python",
   "name": "python3"
  },
  "language_info": {
   "codemirror_mode": {
    "name": "ipython",
    "version": 3
   },
   "file_extension": ".py",
   "mimetype": "text/x-python",
   "name": "python",
   "nbconvert_exporter": "python",
   "pygments_lexer": "ipython3",
   "version": "3.10.4"
  }
 },
 "nbformat": 4,
 "nbformat_minor": 5
}
