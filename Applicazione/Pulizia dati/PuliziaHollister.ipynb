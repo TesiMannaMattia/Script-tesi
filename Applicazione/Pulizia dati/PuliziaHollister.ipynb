{
 "cells": [
  {
   "cell_type": "markdown",
   "id": "f88f0a51",
   "metadata": {},
   "source": [
    "# PuliziaHollister"
   ]
  },
  {
   "cell_type": "markdown",
   "id": "40a48e59",
   "metadata": {},
   "source": [
    "## Importazione pacchetti"
   ]
  },
  {
   "cell_type": "code",
   "execution_count": 1,
   "id": "f164b07e",
   "metadata": {},
   "outputs": [],
   "source": [
    "import pandas as pd\n",
    "import re\n",
    "import numpy as np\n",
    "import os\n",
    "import _string"
   ]
  },
  {
   "cell_type": "markdown",
   "id": "0dd4a4f2",
   "metadata": {},
   "source": [
    "## Importazione dataset"
   ]
  },
  {
   "cell_type": "code",
   "execution_count": null,
   "id": "d4a8dfa5",
   "metadata": {},
   "outputs": [],
   "source": [
    "df = pd.read_csv(r'/Users/mattia/desktop/dati/Hollister.csv')\n",
    "len(df)"
   ]
  },
  {
   "cell_type": "markdown",
   "id": "39f02edf",
   "metadata": {},
   "source": [
    "## Rimozione NA \n",
    "Vengono rimossi tutti i vestiti dei quali non si conosce il materiale.  \n",
    "Questo perchè non ci servono a nulla dato che l'oggetto principale dello studio è il materiale dei vestiti."
   ]
  },
  {
   "cell_type": "code",
   "execution_count": null,
   "id": "c8f7aee1",
   "metadata": {},
   "outputs": [],
   "source": [
    "df=df.dropna(subset=[\"Materiali\"]) #rimozione na \n",
    "df=df.reset_index()                #Settare di nuovo gli indici, va fatto sennò da errore.\n",
    "len(df)"
   ]
  },
  {
   "cell_type": "markdown",
   "id": "b911a32f",
   "metadata": {},
   "source": [
    "## Pulizia colori\n",
    "Per una migliore interpretazione tutte le sfumature dei colori vengono attribuite ad un solo colore, ad esempio, corallo viene attribuito ad arancione."
   ]
  },
  {
   "cell_type": "markdown",
   "id": "8d047bbc",
   "metadata": {},
   "source": [
    "### Creazione categorie di colori"
   ]
  },
  {
   "cell_type": "code",
   "execution_count": null,
   "id": "9c514ddb",
   "metadata": {},
   "outputs": [],
   "source": [
    "altro=[\"BACCA\",\"STAMPA ZEBRATA\",\"LAVAGGIO CHIARO CON VERNICE\",\"LAVAGGIO MEDIO ACCESO CON STRAPPI\",\t\"LAVAGGIO NERO CON STRAPPI\",\t\"NERO SLAVATO CON STRAPPI\",\t\"SCURO CON STRAPPI\",\"LAVAGGIO CHIARO MEDIO STRAPPATO\",\"CAMO\",\"LAVAGGIO MEDIO CHIARO\",\"STAMPA SCURA\",\"LAVAGGIO MEDIO SCURO CON STRAPPI\",\"DARK RINSE\",\"NERO E CORALLO\",\"VERDE E BLU NAVY\",\"PIEGATURA NERA\",\"LAVAGGIO MEDIO CON CINTURA\",\"LIGHT DESTROYED WASH\",\"LAVAGGIO CHIARO DISTRUTTO\",\"MEDIO\",\"LAVAGGIO MEDIO A RIGHE\",\"LAVAGGIO MEDIO CON STRAPPI EFFETTO FLOREALE\",\"TEAL PATTERN\",\"DARK RIPPED WASH\",\"LAVAGGIO MEDIO CON STRAPPI SULLE GINOCCHIA\",\"RINSE SCURO\",\"DISTRUTTO CHIARO\",\"LAVAGGIO MEDIO DISTRUTTO\",\"LAVAGGIO CHIARO MEDIO\",\"CHIARO\",\"LAVAGGIO MEDIO SCURO\",\"RINSE LEGGERMENTE STRAPPATI\",\"DISTRUTTO SCURO\",\t\"LAVAGGIO MEDIO CON STRAPPI\",\t\"CHIARO DISTRUTTO\",\"\tLAVAGGIO MEDIO STAMPATO\",\t\"LAVAGGIO SCURO\",\t\"CHIARO SBIADITO E FONDO SEMPLICE\",\t\"LAVAGGIO SCURO CON STRAPPI\",\"LAVAGGIO MEDIO CON RAMMENDI\",\t\"LAVAGGIO GRIGIO CON STRAPPI\",\"\tLAVAGGIO NERO\",\"SCURO\",\"DISTRUTTO SCURO CON FONDO SFRANGIATO\",\"MEDIA\",\"MEDIO CON RAMMENDI\",\"LAVAGGIO MEDIO CON STRAPPI SCURO\",\"LAVAGGIO CHIARO\",\"MEDIO DISTRUTTO\",\"LAVAGGIO MEDIO\",\"LAVAGGIO SCURO MEDIO\",\"LAVAGGIO CHIARO CON STRAPPI\",\"RINSE\",\"A FIORI ARANCIONI\",\"MULTI RIGHE\",\"NERO SLAVATO - STEP BROTHER\",\"MULTI LOGO\",\"BLU E BIANCO\",\"BLACK AND GREEN\",\"BEIGE E NERO\",\"BLU NAVY E BIANCO\",\"MIX PRIDE\",\"MULTI ICON\",\"MULTICOLORE\",\"MULTI\",\"TIE-DYE MULTICOLORE\"]\n",
    "\n",
    "arancione=[\"CORALLO CON STAMPA\",\"CORALLO ARANCIONE\",\"ARANCIONE NEON\",\"CORALLO CHIARO\",\"ORANGE SPICE FLORAL\",\"ARANCIONE BRUNITO\",\"ARANCIONE SFUMATO\",\"CORAL\",\"LIGHT ORANGE\",\"ARANCIONE A RIGHE\",\"ARANCIONE CON MOTIVO\",\"ARANCIONE SPEZIATO\",\"ARANCIO\",\"ARANCIONE CON STAMPA\",\"ARANCIONE BRUNITO CON MOTIVO\"]\n",
    "\n",
    "beige=[\"BEIGE\"]\n",
    "\n",
    "bianco=[\"BIANCO CON ICONE\",\"RIPPED WHITE\",\"BIANCO DISTRUTTO\",\"SCOZZESE BIANCO\",\"BIANCO CON TEXTURE\",\"BIANCO A QUADRI\",\"BIANCO CON STAMPA\",\"WHITE COLOR BLOCK\",\"BIANCO FLOREALE\",\"BIANCO WITH-TEXT\",\"BIANCO SPORCO\",\"BIANCO\",\"MOTIVO BIANCO\",\"BIANCO TESTURIZZATO\",\"BIANCO A RIGHE\"]\n",
    "\n",
    "blu=[\"BLUE PRINT\",\"MOTIVO BLU NAVY\",\"BLU SHINE\",\"BLU SCINTILLANTE\",\"BLU NAVY CON STAMPA\",\"AZZURRO CON STAMPA\",\"SCOZZESE BLU\",\"RINSE BLU SCURO\",\"BLU SCURO A FIORI\",\"RINSE BLU\",\"QUADRI BLU\",\"LIGHT BLUE PRINT\",\"BLU A FIORI\",\"BLU A RIGHE\",\"MOTIVO BLU\",\"MOTIVO AZZURRO\",\"AZZURRO A FIORI\",\"BLU CON STAMPA\",\"BLU TIE-DYE\",\"BLU\",\"AZZURRO\",\"BLU NAVY\",\"BLU NAVY A RIGHE\",\"BLU CHIARO A RIGHE\",\"BLU SCURO\",\"TINTURA AZZURRA\",\"BLU NAVY FLOREALE\",\"NAVY BLUE STRIPE\"]\n",
    "\n",
    "ciano=[\"TURCHESE CON STAMPA\",\"TURCHESE\"]\n",
    "\n",
    "giallo=[\"KAKI CHIARO\",\"MOTIVO CREMA\",\"ICONA CREMA\",\"GIALLO FLOREALE\",\"GIALLO CON MOTIVO\",\"CREMA\",\"CREAM\",\"SCOZZESE CREMA\",\"GIALLO\"]\n",
    "\n",
    "grigio=[\"GRIGIO MEDIO UNIFORME\",\"MOTIVO SCOZZESE GRIGIO SCURO\",\"GRIGIO CON STAMPA\",\"GRIGIO TIE-DYE\",\"LAVAGGIO ACIDO GRIGIO CHIARO\",\"SLATE\",\"LAVAGGIO GRIGIO\",\"LIGHT GREY SD/TEXTURE\",\"GRIGIO CHIARO MÉLANGE\",\"SCALA DI GRIGI\",\"GRIGIO TALPA\",\"GRIGIO\",\"GRIGIO SCURO\",\"GRIGIO MELANGE\",\"GRIGIO CHIARO\",\"GRIGIO SCURO CON TEXTURE\",\"GREY PATTERN\"]\n",
    "\n",
    "marrone=[\"KAKI\",\"MARRONE CON MOTIVO\",\"MOTIVO MARRONE SCURO\",\"MARRONE SCINTILLANTE\",\"MARRONE CON STAMPA\",\"MARRONE SCURO CON STAMPA\",\"DARK BROWN FLORAL\",\"BROWN PRINT\",\"SCOZZESE MARRONE CHIARO\",\"MARRONE CHIARO CON MOTIVO\",\"SCOZZESE MARRONE SCURO\",\"MARRONE CHIARO A RIGHE\",\"SCOZZESE MARRONE\",\"MARRONE SCURO A RIGHE\",\"MARRONE CHIARO CON STAMPA\",\"MARRONE SCURO DD\",\"LIGHT BROWN\",\"MARRONE SCURO\",\"MARRONE CHIARO\",\"CAMMELLO\",\"RIGHE MARRONI\",\"MARRONE\",\"CLAY\",\"MARRONE FLOREALE\"]\n",
    "\n",
    "nero=[\"RIPPED BLACK\",\"NERO CON DUE BOTTONI\",\"NERO CON STRAPPI\",\"NERO DISTRUTTO\",\"BLACK FLORAL\",\"NERO CON MOTIVO\",\"FADED BLACK\",\"NERO SLAVATO\",\"BLACK PLAID\",\"NERO FLOREALE\",\"NERO\",\"NERO CON STAMPA\",\"SCOZZESE NERO\",\"NERO DÉLAVÉ\",\"NERO DD\"]\n",
    "\n",
    "rosa=[\"ROSA SCURO CON MOTIVO\",\"ROSA NEON\",\"LIGHT PINK FLORAL\",\"ROSA CON MOTIVO\",\"ROSA CREMA\",\"ROSA ACCESO\",\"ROSA A RIGHE\",\"ROSA A FIORI\",\"ROSA FLOREALE\",\"ROSA SCURO TIE-DYE\",\"ROSA CON STAMPA\",\"SCOZZESE ROSA\",\"ROSA\",\"ROSA SCURO\",\"ROSA CHIARO\",\"LIGHT PINK PRINT\",\"PINK\"]\n",
    "\n",
    "rosso=[\"MOTIVO ROSSO\",\"ROSA HOT\",\"ROSSO CON STAMPA\",\"PAPRIKA\",\"ROSSO DD\",\"ROSSO\",\"ROSSO TERRACOTTA\",\"ROSSO PAPRIKA\"]\n",
    "\n",
    "verde=[\"VERDE CHIARO CON MOTIVO\",\"MINT PATTERN\",\"MOTIVO MINT\",\"VERDE CHIARO SCINTILLANTE\",\"VERDE SCINTILLANTE\",\"VERDE CON STAMPA\",\"MOTIVO VERDE\",\"VERDE OLIVA SCINTILLANTE\",\"VERDE NEON\",\"VERDE FLOREALE\",\"VERDE MINT\",\"VERDE CHIARO FLOREALE\",\"GREEN FLORAL\",\"VERDE OLIVA DD\",\"VERDE OLIVA MIMETICO\",\"VERDE MENTA\",\"VERDE OLIVA CHIARO\",\"VERDE MINT A FIORI\",\"NEON GREEN\",\"VERDE CHIARO SCOZZESE\",\"MENTA\",\"VERDE OLIVA TIE-DYE\",\"VERDE CHIARO CON STAMPA\",\"VERDE CHIARO A FIORI\",\"VERDE CHIARO\",\"VERDE A RIGHE\",\"VERDE\",\"GREEN DD\",\"VERDE LIME\",\"VERDE SCURO\",\"VERDE OLIVA SCURO\",\"LIGHT GREEN\",\"SALVIA\",\"SCOZZESE VERDE\",\"VERDE OLIVA FLOREALE\",\"OLIVE GREEN\",\"VERDE OLIVA\"]\n",
    "\n",
    "viola=[\"VIOLA TIE-DYE\",\"VIOLA CON MOTIVO\",\"VIOLA CHIARO CON STAMPA\",\"VIOLA\",\"BORDEAUX\",\"LIGHT PURPLE\",\"BORDEAUX TIE-DYE\"]"
   ]
  },
  {
   "cell_type": "markdown",
   "id": "331339fa",
   "metadata": {},
   "source": [
    "### Assegnazione colori"
   ]
  },
  {
   "cell_type": "code",
   "execution_count": null,
   "id": "ce8590fb",
   "metadata": {},
   "outputs": [],
   "source": [
    "for i in range(0,len(df)):\n",
    "    if df[\"Colore\"][i].strip() in arancione: #1\n",
    "        df[\"Colore\"][i]=\"Arancione\"\n",
    "\n",
    "    elif df[\"Colore\"][i].strip() in beige:  #2\n",
    "        df[\"Colore\"][i]=\"Beige\"\n",
    "\n",
    "    elif df[\"Colore\"][i].strip() in bianco: #3\n",
    "        df[\"Colore\"][i]=\"Bianco\"\n",
    "\n",
    "    elif df[\"Colore\"][i].strip() in blu: #4\n",
    "        df[\"Colore\"][i]=\"Blu\"\n",
    "\n",
    "    elif df[\"Colore\"][i].strip() in ciano: #5\n",
    "        df[\"Colore\"][i]=\"Ciano\"    \n",
    "\n",
    "    elif df[\"Colore\"][i].strip() in giallo: #6\n",
    "        df[\"Colore\"][i]=\"Giallo\"\n",
    "\n",
    "    elif df[\"Colore\"][i].strip() in grigio: #7\n",
    "        df[\"Colore\"][i]=\"Grigio\"\n",
    "\n",
    "    elif df[\"Colore\"][i].strip() in marrone: #8\n",
    "        df[\"Colore\"][i]=\"Marrone\"\n",
    "\n",
    "    elif df[\"Colore\"][i].strip() in nero: #9\n",
    "        df[\"Colore\"][i]=\"Nero\"\n",
    "\n",
    "    elif df[\"Colore\"][i].strip() in rosa: #10\n",
    "        df[\"Colore\"][i]=\"Rosa\" \n",
    "\n",
    "    elif df[\"Colore\"][i].strip() in rosso: #11\n",
    "        df[\"Colore\"][i]=\"Rosso\"\n",
    "\n",
    "    elif df[\"Colore\"][i].strip() in verde: #12\n",
    "        df[\"Colore\"][i]=\"Verde\"\n",
    "\n",
    "    elif df[\"Colore\"][i].strip() in viola: #13\n",
    "        df[\"Colore\"][i]=\"Viola\"\n",
    "\n",
    "    elif df[\"Colore\"][i].strip() in altro: #14\n",
    "        df[\"Colore\"][i]=\"Altro\"\n",
    "\n",
    "    else:\n",
    "    df=df.drop(i)\n",
    "\n",
    "\n",
    "\n",
    "df=df.reset_index()    #si devono rimettere gli indici perchè alcune righe che presentano colori ambigui verranno eliminate\n",
    "\n",
    "len(df)"
   ]
  },
  {
   "cell_type": "markdown",
   "id": "6cb07b32",
   "metadata": {},
   "source": [
    "## Pulizia materiali"
   ]
  },
  {
   "cell_type": "code",
   "execution_count": null,
   "id": "be0ad8b8",
   "metadata": {},
   "outputs": [],
   "source": [
    "materiali=df[\"Materiali\"]     #Estrarre colonne\n",
    "#Inizializzazione dataset\n",
    "dataset = pd.DataFrame({'A' : []})\n",
    "\n",
    "for i in range(0,len(materiali)):\n",
    "    stringa=materiali[i]\n",
    "##########################\n",
    "    if stringa[0].isdigit()==True: #risolve problemi su rappresentazioni di tipo (senza classe di riferimento)  : \"59% cotone, 21% viscosa, 12% modal, 6% poliestere, 2% elastan\"\n",
    "        stringa= \"Corpo:\"+stringa\n",
    "##########################  \n",
    "\n",
    "    ma=re.findall(r\":[\\w,\\s%]*\",stringa) #rimozione della classe di appartenenza dei materiali.\n",
    "\n",
    "    ma=\" \".join(ma)                      #riportare tutto in una una stringa per lavorare meglio\n",
    "\n",
    "    ma=re.findall(r\"[a-zA-Z \\s]{2,}\",ma) #Estrazione nomi dei materiali \n",
    "\n",
    "  \n",
    "  #Ulteriore pulizia dei nomi materiali\n",
    "    for j in range(0,len(ma)):\n",
    "        ma[j]=ma[j].strip().capitalize()  #toglie spazi iniziali e finali e mette prima lettera maiuscola e resto tutto minuscolo\n",
    "        ma[j]=re.sub(\"[\\s]\",\"_\",ma[j])    #Se una parola è doppia toglie lo spazio ed unisce con un trattino le due parole\n",
    "        if ma[j]==\"Poliestere_riciclato\" or ma[j]==\"Fibre_di_poliestere_riciclato\":\n",
    "            ma[j]=\"Poliestere\"\n",
    "\n",
    "        elif ma[j]==\"Rayon\":\n",
    "            ma[j]=\"Viscosa\"\n",
    "  ###################Fine ulteriore pulizia\n",
    "\n",
    "    ma = list(dict.fromkeys(ma))        #Rimozione di eventuali materiali che compaiono più volte in diverse classi.\n",
    "\n",
    "    vettore_uni=np.ones(len(ma))        #Vettori di uno per i materiali presenti \n",
    "\n",
    "    vettore_uni.astype(int)             #Togliere decimali dagli uno, nota: non sembra funzionare.\n",
    "\n",
    "    riga= pd.DataFrame([vettore_uni], columns=ma)        #Crea la riga \n",
    "\n",
    "    dataset=pd.concat([dataset, riga])                   #Aggiunge la riga al dataset esistente"
   ]
  },
  {
   "cell_type": "markdown",
   "id": "e60c2ad5",
   "metadata": {},
   "source": [
    "## Fasi finali"
   ]
  },
  {
   "cell_type": "code",
   "execution_count": null,
   "id": "8337bd73",
   "metadata": {},
   "outputs": [],
   "source": [
    "#Sostituzione degli na con degli zeri (0).\n",
    "dataset=dataset.fillna(0) \n",
    "\n",
    "#Rimozione colonna inutile\n",
    "dataset.drop([\"A\"], inplace=True, axis=1)\n",
    "\n",
    "#Aggiustamento indici\n",
    "dataset=dataset.reset_index()\n",
    "\n",
    "#ORDINARE IL DATASET PER COLONNA :\n",
    "dataset = dataset.reindex(sorted(dataset.columns), axis=1)  \n",
    "\n",
    "#Creazione della colonna che fornisce il numero di fibre presenti nel vestito.\n",
    "dataset['N.Fibre_Differenti'] = dataset.sum(axis=1)\n",
    "\n",
    "#Rimozione colonna inutile\n",
    "dataset.drop([\"index\"], inplace=True, axis=1)\n",
    "\n",
    "#Aggiunta del nuovo dataset al vecchio.\n",
    "dati=pd.concat([df, dataset], axis=1) #non ha senso farlo perchè il dataset in input non è corretto"
   ]
  },
  {
   "cell_type": "markdown",
   "id": "a3b34208",
   "metadata": {},
   "source": [
    "## Esportazione dataset"
   ]
  },
  {
   "cell_type": "code",
   "execution_count": null,
   "id": "34b51463",
   "metadata": {},
   "outputs": [],
   "source": [
    "dati.to_csv(\"/Users/mattia/desktop/P_Hollister.csv\")"
   ]
  }
 ],
 "metadata": {
  "kernelspec": {
   "display_name": "conda_python3",
   "language": "python",
   "name": "conda_python3"
  },
  "language_info": {
   "codemirror_mode": {
    "name": "ipython",
    "version": 3
   },
   "file_extension": ".py",
   "mimetype": "text/x-python",
   "name": "python",
   "nbconvert_exporter": "python",
   "pygments_lexer": "ipython3",
   "version": "3.8.12"
  }
 },
 "nbformat": 4,
 "nbformat_minor": 5
}
