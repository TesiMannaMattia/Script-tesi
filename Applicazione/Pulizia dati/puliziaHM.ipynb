{
 "cells": [
  {
   "cell_type": "markdown",
   "id": "6ae5877c",
   "metadata": {},
   "source": [
    "# PuliziaHM"
   ]
  },
  {
   "cell_type": "markdown",
   "id": "d0b8f72a",
   "metadata": {},
   "source": [
    "##  Importazione pacchetti"
   ]
  },
  {
   "cell_type": "code",
   "execution_count": null,
   "id": "afed05fd",
   "metadata": {},
   "outputs": [],
   "source": [
    "import pandas as pd\n",
    "import re\n",
    "import numpy as np\n",
    "import os\n",
    "import _string"
   ]
  },
  {
   "cell_type": "markdown",
   "id": "3f7cb59c",
   "metadata": {},
   "source": [
    "## Importazione dati"
   ]
  },
  {
   "cell_type": "code",
   "execution_count": null,
   "id": "696b35fc",
   "metadata": {},
   "outputs": [],
   "source": [
    "df = pd.read_csv(r'/Users/mattia/desktop/dati/HM.csv')\n",
    "len(df)"
   ]
  },
  {
   "cell_type": "markdown",
   "id": "b7efc306",
   "metadata": {},
   "source": [
    "## Eliminazione NA"
   ]
  },
  {
   "cell_type": "code",
   "execution_count": null,
   "id": "b08f6510",
   "metadata": {},
   "outputs": [],
   "source": [
    "df=df.dropna() \n",
    "df=df.reset_index() \n",
    "len(df)"
   ]
  },
  {
   "cell_type": "markdown",
   "id": "63edeecc",
   "metadata": {},
   "source": [
    "## Pulizia colori"
   ]
  },
  {
   "cell_type": "markdown",
   "id": "b934c83c",
   "metadata": {},
   "source": [
    "### Creazione categorie di colori"
   ]
  },
  {
   "cell_type": "code",
   "execution_count": null,
   "id": "08b79670",
   "metadata": {},
   "outputs": [],
   "source": [
    "altro=[\"Ruggine\",\"Black-coloured\",\"Silver-coloured\"]\n",
    "arancione=[\"Dark orange\",\"Arancione ruggine\",\"Arancione mélange\",\"Light orange\",\"Orange marl\",\"Arancione fiamma\",\"Corallo chiaro\",\"Apricot\",\"Corallo\",\"Albicocca\",\"Arancione scuro\",\"Arancione brillante\",\"Albicocca chiaro\",\"Orange\",\"Arancione chiaro\",\"Arancione\"]\n",
    "beige=[\"Sabbia\",\"Beigeélange\",\"Beige-de-poule\",\"Beige nocciola\",\"Powder beige\",\"Beige cipria\",\"Beige avena chiaro\",\"Beige sabbia mélange\",\"Light beige marl\",\"Beige chiaro\",\"Beige scuro-de-poule\",\"Dark beige marl\",\"Beige chiaro-de-poule\",\"Beige-patterned\",\"Beige mélange\",\"Dark beige\",\"Beige avena mélange\",\"Beige avena mèlange\",\"Beige avena melange\",\"Light beige\",\"Beige scuro\",\"Beige\",\"Beige chiaro\",\"Beige scuro mélange\",\"Beige scuro melange\",\"Beige scuro mèlange\",\"Beige chiaro mélange\",\"Beige chiaro melange\",\"Beige chiaro mèlange\"]\n",
    "bianco=[\"Bianco7 up\",\"Biancoélange\",\"Bianco\",\"Bianco-cola\",\"Bianco naturale mélange\",\"Bianco mélange\",\"White\",\"Bianco-de-poule\",\"Natural white\",\"Bianco naturale\",\"Bianco\",\"White\"]\n",
    "blu=[\"Light blue-patterned\",\"Blue-patterned\",\"Azzurro\",\"Azzurroélange\",\"Blu scuroélange\",\"Pigeon blue\",\"Blu denim chiarissimo\",\"Dark denim blue\",\"Denim blue\",\"Pale denim blue\",\"Blu medio\",\"Blu notte\",\"Light denim blue\",\"Blu petrolio scuro\",\"Bright blue\",\"Blu cobalto\",\"Azzurro mélange\",\"Blu ghiaccio\",\"Blu mélange\",\"Denim blue\",\"Blu denim pallido\",\"Blu tortora\",\"Navy blue\",\"Dark blue marl\",\"Light blue\",\"Blue\",\"Dark blue\",\"Blu fiordaliso\",\"Blu denim scuro\",\"Azzurro\",\"Blu denim\",\"Blu scuro\",\"Blu\",\"Blu acceso\",\"Blu navy\",\"Blu denim chiaro\"]\n",
    "ciano=[\"Dark turquoise\",\"Ciano\",\"Turchese chiaro\",\"Turchese\",\"Turquoise\",\"Turchese scuro\"]\n",
    "ecru=[\"Ecru chiaro\"]\n",
    "giallo=[\"Crema'\",\"Giallo neon\",\"Giallo neon pallido\",\"Crema\",\"Crema-cola\",\"Cream-patterned\",\"Ocra\",\"Dorato\",\"Cream-dye\",\"Giallo scuro\",\"Yellow\",\"Cream\",\"Crema\",\"Dark yellow\",\"Light yellow\",\"Giallo\",\"Giallo senape\",\"Giallo chiaro\"]\n",
    "grigio=[\"Greige chiaro mélange\",\"Grigio scuroélange\",\"Argento\",\"Light greige\",\"Dark greige\",\"Grigio scuro-de-poule\",\"Dark denim grey\",\"Grey\",\"Denim grigio scuro\",\"Denim grey\",\"Grigio denim\",\"Grigio denim scuro\",\"Dark grey marl\",\"Talpa chiaro\",\"Grigio mélange-cola\",\"Grigio chiaro mél\",\"Grigio mél\",\"Light grey-blue\",\"Grey marl\",\"Grigio ghiaccio\",\"Light grey marl\",\"Grigio antracite\",\"Greige scuro mélange\",\"Dark grey\",\"Greige marl\",\"Light grey\",\"Greige mélange\",\"Talpa scuro\",\"Grigio scuro mélange\",\"Grigio melange\",\"Grigio mélange\",\"Grigio mèlange\",\"Talpa\",\"Grigio fumo\",\"Greige chiaro\",\"Greige scuro\",\"Greige\",\"Grigio scuro\",\"Argentato\",\"Grigio chiaro\",\"Grigio\",\"Grigio chiaro melange\",\"Grigio chiaro mélange\",\"Grigio chiaro mèlange\"]\n",
    "marrone=[\"Dark brown marl\",\"Marrone scuroélange\",\"Marrone scuro mélange\",\"Rust brown\",\"Marrrone\",\"Marrone\",\"Marrone quadri\",\"Marrone ruggine\",\"Marrone cioccolato\",\"Light brown\",\"Marrone mélange\",\"Mole\",\"Brown\",\"Dark brown\",\"Marrone scuro\",\"Marrone\",\"Marrone chiaro\"]\n",
    "nero=[\"Nero1\",\"Nero40 den\",\"Nero20 den\",\"Nero70 den\",\"Nero100 den\",\"Nero200 den\",\"Denim nero\",\"Nero-cola\",\"Neroélange\",\"Nero-de-poule\",\"Nero mélange\",\"Nero-block\",\"Petrolio\",\"Black-patterned\",\"Nero\",\"Black\",\"Nero®\"]\n",
    "rosa=[\"Rosa nebbia chiaro\",\"Rosa pallido\",\"Rosa nebbia\",\"Rosa cipria scuro\",\"Rosa\",\"Rosa chiaro\",\"Rosaélange\",\"Rosa chiaroélange\",\"Rosa polvere\",\"Rosa cipria chiaro\",\"Powder pink\",\"Rosa chiaroès jolie\",\"Rosa pesca\",\"Pink\",\"Fucsia\",\"Rosa chiaro mélange\",\"Light pink-dye\",\"Rosa scuro\",\"Rosa antico scuro\",\"Light pink\",\"Old rose\",\"Rosa acceso\",\"Rosa chiaro\",\"Rosa cipria\",\"Rosa\",\"Rosa antico\"]\n",
    "rosso=[\"Rosso's favorite\",\"Rosso vivo\",\"Rosso ruggine\",\"Rosso fiammante\",\"Cerise\",\"Rosso scuro\",\"Bright red\",\"Ciliegia\",\"Rosso\",\"Rosso-cola\",\"Rosso acceso\",\"Red\"]\n",
    "verde=[\"Verde mélange\",\"Lime green\",\"Light neon green\",\"Verde kaki ch.\",\"Bright green\",\"Neon green\",\"Verde mentaélange\",\"Verde polvere chiaro\",\"Verde nebbia\",\"Light khaki green\",\"Verde polvere\",\"Verde menta chiaro\",\"Verde chiaro pallido\",\"Verde chiaro mélange\",\"Verde-beige\",\"Khaki green\",\"Verde oliva scuro\",\"Dark khaki green\",\"Olive green\",\"Verde nebbia chiaro\",\"Verde neon chiaro\",\"Verde muschio\",\"Verde salvia\",\"Verde neon\",\"Dark green\",\"Verde lime\",\"Verde pistacchio\",\"Verde-beige chiaro\",\"Verde kaki chiaro\",\"Verde giallognolo chiaro\",\"Light green\",\"Verde kaki scuro\",\"Verde salvia chiaro\",\"Verde salvia scuro\",\"Verde kaki\",\"Green\",\"Verde chiaro\",\"Verde acceso\",\"Verde\",\"Verde scuro\",\"Verde menta\",\"Verde oliva\"]\n",
    "viola=[\"Plum purple\",\"Malva\",\"Malva chiaro\",\"Viola'amicizia\",\"Viola prugna scuro\",\"Lavanda\",\"Prugna\",\"Viola chiaro mélange\",\"Lilla\",\"Erica chiaro\",\"Purple\",\"Light purple\",\"Viola mélange\",\"Viola prugna\",\"Bordeaux scuro\",\"Bordeaux\",\"Viola pallido\",\"Viola\",\"Viola chiaro\"]"
   ]
  },
  {
   "cell_type": "markdown",
   "id": "60a3e374",
   "metadata": {},
   "source": [
    "### Assegnazione colori"
   ]
  },
  {
   "cell_type": "code",
   "execution_count": null,
   "id": "5d224219",
   "metadata": {},
   "outputs": [],
   "source": [
    "for i in range(0,len(df)):\n",
    "    m=re.sub(r\"/[\\s a-zA-Z]*\",\"\",df[\"Colore\"][i])\n",
    "\n",
    "    m=re.sub(r\"[^a-zA-Z \\- \\s]*\",\"\",m)\n",
    "    m=m.strip()\n",
    "\n",
    "    if m in arancione:\n",
    "        df[\"Colore\"][i]=\"Arancione\"\n",
    "    elif m in beige :\n",
    "        df[\"Colore\"][i]=\"Beige\"\n",
    "    elif m in  bianco :\n",
    "        df[\"Colore\"][i]=\"Bianco\"\n",
    "    elif m in blu:\n",
    "        df[\"Colore\"][i]=\"Blu\"\n",
    "    elif m in ciano:\n",
    "        df[\"Colore\"][i]=\"Ciano\"\n",
    "    elif m in ecru:\n",
    "        df[\"Colore\"][i]=\"Ecru\"\n",
    "    elif m in giallo:\n",
    "        df[\"Colore\"][i]=\"Giallo\"\n",
    "    elif m in grigio:\n",
    "        df[\"Colore\"][i]=\"Grigio\"\n",
    "    elif m in marrone:\n",
    "        df[\"Colore\"][i]=\"Marrone\"\n",
    "    elif m in nero:\n",
    "        df[\"Colore\"][i]=\"Nero\"\n",
    "    elif m in rosa:\n",
    "        df[\"Colore\"][i]=\"Rosa\"\n",
    "    elif m in rosso:\n",
    "        df[\"Colore\"][i]=\"Rosso\"\n",
    "    elif m in verde:\n",
    "        df[\"Colore\"][i]=\"Verde\"\n",
    "    elif m in viola:\n",
    "        df[\"Colore\"][i]=\"Viola\"\n",
    "    elif m in altro:\n",
    "        df[\"Colore\"][i]=\"Altro\"\n",
    "    else:\n",
    "        df=df.drop(i)         \n",
    "df=df.reset_index()      #si devono rimettere gli indici perchè alcune righe che presentano colori ambigui verranno eliminate "
   ]
  },
  {
   "cell_type": "markdown",
   "id": "61d41c55",
   "metadata": {},
   "source": [
    "## Pulizia materiali"
   ]
  },
  {
   "cell_type": "code",
   "execution_count": null,
   "id": "a124cc06",
   "metadata": {},
   "outputs": [],
   "source": [
    "m=df[\"Materiali\"]\n",
    "dataset = pd.DataFrame({'A' : []})\n",
    "for i in range(0,len(m)):\n",
    "    if m[i]==\"Null\":\n",
    "        #print(\"Eliminato\")\n",
    "        df=df.drop(i) #eliminare le righe che non hanno materiale\n",
    "        continue \n",
    "    k=re.sub(\"[a-zA-Z\\s]*:\",\"\",m[i]) #Restituisce solo i materiali con la corrispettiva percentuale\n",
    "    #n=re.sub(\"[0-9%]*\",\"\",k)\n",
    "    ma=re.findall(r\"[a-zA-Z \\s]{2,}\",k)\n",
    "\n",
    "\n",
    "    for j in range(0,len(ma)):\n",
    "        ma[j]=ma[j].strip().capitalize()  #toglie spazi iniziali e finali e mette prima lettera maiuscola e resto tutto minuscolo\n",
    "        ma[j]=re.sub(\"[\\s]\",\"_\",ma[j])    #Se una parola è doppia toglie lo spazio ed unisce con un trattino le due parole\n",
    "    \n",
    "        if ma[j]==\"Poliestere_riciclato\" or ma[j]==\"Fibre_di_poliestere_riciclato\":\n",
    "            ma[j]=\"Poliestere\"\n",
    "    \n",
    "        elif  ma[j]==\"Lana_di_yak\" or \tma[j]==\"Lana_merinos\":\n",
    "            ma[j]=\"Lana\"\n",
    "\n",
    "        elif ma[j]==\"Copoliestere\":\n",
    "            ma[j]=\"Poliestere\"\n",
    "    \n",
    "        elif ma[j]==\"Poliuretano_termoplastico\":\n",
    "            ma[j]=\"Poliuretano\"\n",
    "    \n",
    "        elif ma[j]==\"Rayon\":\n",
    "            ma[j]=\"Viscosa\"\n",
    "\n",
    "\n",
    "      \n",
    "    ma = list(dict.fromkeys(ma))        #Rimozione di eventuali materiali che compaiono più volte in diverse classi.\n",
    "\n",
    "    vettore_uni=np.ones(len(ma))        #Vettori di uno per i materiali presenti \n",
    "\n",
    "    vettore_uni.astype(int)             #Togliere decimali dagli uno, nota: non sembra funzionare.\n",
    "\n",
    "    riga= pd.DataFrame([vettore_uni], columns=ma)        #Crea la riga \n",
    "\n",
    "    dataset=pd.concat([dataset, riga])   "
   ]
  },
  {
   "cell_type": "markdown",
   "id": "6c904d33",
   "metadata": {},
   "source": [
    "## Fasi finali"
   ]
  },
  {
   "cell_type": "code",
   "execution_count": null,
   "id": "b66ad52b",
   "metadata": {},
   "outputs": [],
   "source": [
    "df=df.reset_index(drop=True)    #si devono rimettere gli indici perchè alcune righe che presentano colori ambigui verranno eliminate\n",
    "#LAVORARE SUL DATASET PANDAS CREATO\n",
    "\n",
    "#Sostituzione degli na con degli zeri (0).\n",
    "dataset=dataset.fillna(0) \n",
    "\n",
    "#Rimozione colonna inutile\n",
    "dataset.drop([\"A\"], inplace=True, axis=1)\n",
    "\n",
    "#Aggiustamento indici\n",
    "dataset=dataset.reset_index()\n",
    "\n",
    "#ORDINARE IL DATASET PER COLONNA :\n",
    "dataset = dataset.reindex(sorted(dataset.columns), axis=1)  \n",
    "\n",
    "#Creazione della colonna che fornisce il numero di fibre presenti nel vestito.\n",
    "dataset['N.Fibre_Differenti'] = dataset.sum(axis=1)\n",
    "\n",
    "#Rimozione colonna inutile\n",
    "dataset.drop([\"index\"], inplace=True, axis=1)\n",
    "dati=pd.concat([df, dataset], axis=1) #non ha senso farlo perchè il dataset in input non è corretto\n",
    "\n",
    "#Rimozione colonna inutile\n",
    "try:\n",
    "    dati.drop([\"Unnamed: 0\",\"...1\"], inplace=True, axis=1)\n",
    "except:\n",
    "    pass\n",
    "try:\n",
    "    dati.drop([\"level_0\"], inplace=True, axis=1)\n",
    "except:\n",
    "    pass"
   ]
  },
  {
   "cell_type": "markdown",
   "id": "a377f106",
   "metadata": {},
   "source": [
    "## Esportazione dataset"
   ]
  },
  {
   "cell_type": "code",
   "execution_count": null,
   "id": "d92dab03",
   "metadata": {},
   "outputs": [],
   "source": [
    "dati.to_csv(\"/Users/mattia/desktop/P_HM.csv\")"
   ]
  }
 ],
 "metadata": {
  "kernelspec": {
   "display_name": "conda_python3",
   "language": "python",
   "name": "conda_python3"
  },
  "language_info": {
   "codemirror_mode": {
    "name": "ipython",
    "version": 3
   },
   "file_extension": ".py",
   "mimetype": "text/x-python",
   "name": "python",
   "nbconvert_exporter": "python",
   "pygments_lexer": "ipython3",
   "version": "3.8.12"
  }
 },
 "nbformat": 4,
 "nbformat_minor": 5
}
