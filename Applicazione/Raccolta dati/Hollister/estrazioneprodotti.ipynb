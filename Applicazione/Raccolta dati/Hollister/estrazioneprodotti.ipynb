{
 "cells": [
  {
   "cell_type": "markdown",
   "id": "f128813f",
   "metadata": {},
   "source": [
    "# Funzioni"
   ]
  },
  {
   "cell_type": "markdown",
   "id": "56aecc1d",
   "metadata": {},
   "source": [
    "## Importazione pacchetti"
   ]
  },
  {
   "cell_type": "code",
   "execution_count": null,
   "id": "429ffc8c",
   "metadata": {},
   "outputs": [],
   "source": [
    "#Importazione pacchetti per selenium\n",
    "from selenium import webdriver\n",
    "from selenium.webdriver.common.keys import Keys\n",
    "from selenium.webdriver.support import expected_conditions as EC\n",
    "from selenium.webdriver.common.by import By\n",
    "from selenium.webdriver.support.wait import WebDriverWait\n",
    "from selenium.webdriver.chrome.options import Options\n",
    "import os\n",
    "import wget\n",
    "import time \n",
    "\n",
    "#Importazione pacchetti per BeautifulSoup\n",
    "import requests\n",
    "from urllib.request import urlopen\n",
    "from bs4 import BeautifulSoup\n",
    "import re\n",
    "\n",
    "#Importazione pacchetti per esportare in csv\n",
    "import pandas as pd  \n",
    "\n",
    "#Per lavorare con le date\n",
    "from datetime import date "
   ]
  },
  {
   "cell_type": "markdown",
   "id": "da1e546f",
   "metadata": {},
   "source": [
    "## Headers"
   ]
  },
  {
   "cell_type": "code",
   "execution_count": null,
   "id": "c377b2cd",
   "metadata": {},
   "outputs": [],
   "source": [
    "headers={\n",
    "'accept': 'text/html,application/xhtml+xml,application/xml;q=0.9,image/avif,image/webp,image/apng,*/*;q=0.8,application/signed-exchange;v=b3;q=0.9'\n",
    ",'accept-encoding': 'gzip, deflate, br',\n",
    "'accept-language': 'it-IT,it;q=0.9,en-US;q=0.8,en;q=0.7',\n",
    "'cache-control': 'max-age=0',\n",
    "'content-length': '128',\n",
    "'content-type': 'application/x-www-form-urlencoded',\n",
    "'origin': 'https://labels.fda.gov',\n",
    "'referer': 'https://labels.fda.gov/ingredientName.cfm',\n",
    "'user-agent': 'Mozilla/5.0 (Macintosh; Intel Mac OS X 10_15_7) AppleWebKit/537.36 (KHTML, like Gecko) Chrome/90.0.4430.210 Safari/537.36'}"
   ]
  },
  {
   "cell_type": "markdown",
   "id": "d3012b67",
   "metadata": {},
   "source": [
    "## Funzione"
   ]
  },
  {
   "cell_type": "code",
   "execution_count": null,
   "id": "fa87d594",
   "metadata": {},
   "outputs": [],
   "source": [
    "def estrazione_tipo_prodotti(url) :\n",
    "    \"\"\"\n",
    "    Questa funzione estrae dal sito le categorie dei prodotti e le colloca in un dizionario.\n",
    "    Delle categorie si prendono il nome ed il link alla loro pagina.\n",
    "    La funzione prendere come input url della pagina di uomini o donne.\n",
    "    \"\"\"\n",
    "    \n",
    "    \n",
    "    #Connessione al sito, presa e parsing HTML\n",
    "    response=requests.post(url,headers=headers)\n",
    "    soup=BeautifulSoup(response.text,'html.parser')\n",
    "    \n",
    "    #Prendere la sezione con le categorie di prodotto\n",
    "    sezione_link=soup.find(\"ul\",{\"class\":\"grid-nav__items-group regular hide-sm\"})\n",
    "\n",
    "    #Prendere le tag contenenti nome  di categoria e link alla pagina associata\n",
    "    tag_a=sezione_link.find_all(\"a\")\n",
    "\n",
    "    #Inizializzazione dizionario\n",
    "    dizionario={}\n",
    "\n",
    "    for i in range(0,len(tag_a)):\n",
    "    \n",
    "        #Estrazione nome della categoria di prodotto\n",
    "        nome=tag_a[i].text\n",
    "        nome=\" \".join(nome.split())  #Grazie https://www.digitalocean.com/community/tutorials/python-remove-spaces-from-string\n",
    "    \n",
    "        #Estrazione link delle categoria\n",
    "        link_parziale=tag_a[i].get('href')\n",
    "        link=\"https://www.hollisterco.com\"+link_parziale\n",
    "    \n",
    "        #Inserimento nel dizionario\n",
    "        dizionario[nome]=link\n",
    "    return dizionario"
   ]
  }
 ],
 "metadata": {
  "kernelspec": {
   "display_name": "conda_python3",
   "language": "python",
   "name": "conda_python3"
  },
  "language_info": {
   "codemirror_mode": {
    "name": "ipython",
    "version": 3
   },
   "file_extension": ".py",
   "mimetype": "text/x-python",
   "name": "python",
   "nbconvert_exporter": "python",
   "pygments_lexer": "ipython3",
   "version": "3.8.12"
  }
 },
 "nbformat": 4,
 "nbformat_minor": 5
}
