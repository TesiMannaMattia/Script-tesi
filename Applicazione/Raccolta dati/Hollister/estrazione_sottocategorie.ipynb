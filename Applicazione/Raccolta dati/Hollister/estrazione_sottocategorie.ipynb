{
 "cells": [
  {
   "cell_type": "markdown",
   "id": "e089a1ee",
   "metadata": {},
   "source": [
    "# Funzione estrazione_sottocategorie"
   ]
  },
  {
   "cell_type": "markdown",
   "id": "926d951d",
   "metadata": {},
   "source": [
    "## Importazione pacchetti"
   ]
  },
  {
   "cell_type": "code",
   "execution_count": null,
   "id": "caef20a8",
   "metadata": {},
   "outputs": [],
   "source": [
    "#Importazione pacchetti per selenium\n",
    "from selenium import webdriver\n",
    "from selenium.webdriver.common.keys import Keys\n",
    "from selenium.webdriver.support import expected_conditions as EC\n",
    "from selenium.webdriver.common.by import By\n",
    "from selenium.webdriver.support.wait import WebDriverWait\n",
    "from selenium.webdriver.chrome.options import Options\n",
    "import os\n",
    "import wget\n",
    "import time \n",
    "\n",
    "#Importazione pacchetti per BeautifulSoup\n",
    "import requests\n",
    "from urllib.request import urlopen\n",
    "from bs4 import BeautifulSoup\n",
    "import re\n",
    "\n",
    "#Importazione pacchetti per esportare in csv\n",
    "import pandas as pd  \n",
    "\n",
    "#Per lavorare con le date\n",
    "from datetime import date "
   ]
  },
  {
   "cell_type": "markdown",
   "id": "701bf9a7",
   "metadata": {},
   "source": [
    "## Headers"
   ]
  },
  {
   "cell_type": "code",
   "execution_count": null,
   "id": "06b25db9",
   "metadata": {},
   "outputs": [],
   "source": [
    "headers={\n",
    "'accept': 'text/html,application/xhtml+xml,application/xml;q=0.9,image/avif,image/webp,image/apng,*/*;q=0.8,application/signed-exchange;v=b3;q=0.9'\n",
    ",'accept-encoding': 'gzip, deflate, br',\n",
    "'accept-language': 'it-IT,it;q=0.9,en-US;q=0.8,en;q=0.7',\n",
    "'cache-control': 'max-age=0',\n",
    "'content-length': '128',\n",
    "'content-type': 'application/x-www-form-urlencoded',\n",
    "'origin': 'https://labels.fda.gov',\n",
    "'referer': 'https://labels.fda.gov/ingredientName.cfm',\n",
    "'user-agent': 'Mozilla/5.0 (Macintosh; Intel Mac OS X 10_15_7) AppleWebKit/537.36 (KHTML, like Gecko) Chrome/90.0.4430.210 Safari/537.36'}"
   ]
  },
  {
   "cell_type": "markdown",
   "id": "aa51e321",
   "metadata": {},
   "source": [
    "## Funzione"
   ]
  },
  {
   "cell_type": "code",
   "execution_count": null,
   "id": "17a37821",
   "metadata": {},
   "outputs": [],
   "source": [
    "def estrazione_sottocategorie(link,chiave):\n",
    "    response=requests.post(link,headers=headers)\n",
    "    html=BeautifulSoup(response.text,'html.parser')\n",
    "    \n",
    "    #PRENDERE e PROCESSARE L'HTML DELLA PAGINA\n",
    "    #Andare sulla griglia\n",
    "    griglia=html.find(\"div\",{\"class\":\"grid-nav__items-wrapper\"})\n",
    "    ull=griglia.find(\"ul\",{\"class\":\"grid-nav__items-group regular hide-sm\"})\n",
    "\n",
    "\n",
    "\n",
    "    lista_link=[]\n",
    "    lista_tipo=[]\n",
    "    #Grazie alla pagina : https://www.geeksforgeeks.org/beautifulsoup-nextsibling/\n",
    "\n",
    "    try:\n",
    "        element = ull.li\n",
    "        a=element.find(\"a\")\n",
    "    \n",
    "        linketto=a.get(\"href\")\n",
    "        linketto=\"https://www.hollisterco.com\"+str(linketto) \n",
    "        testo=a.text\n",
    "\n",
    "        lista_tipo.append(testo.strip())\n",
    "        lista_link.append(linketto)\n",
    "\n",
    "\n",
    "        nextSiblings = element.find_next_siblings(\"li\")\n",
    "        for i in range(0,len(nextSiblings)):\n",
    "    \n",
    "            primo=nextSiblings[i]\n",
    "            \n",
    "            a=primo.find(\"a\")\n",
    "    \n",
    "            linketto=a.get(\"href\")\n",
    "            linketto= \"https://www.hollisterco.com\"+str(linketto) \n",
    "    \n",
    "            testo=a.text\n",
    "    \n",
    "    \n",
    "            lista_tipo.append(testo.strip())\n",
    "            lista_link.append(linketto)\n",
    "    \n",
    "        return lista_tipo,lista_link\n",
    "    except:\n",
    "        lista_tipo.append(chiave)\n",
    "        lista_link.append(link)\n",
    "        return lista_tipo, lista_link"
   ]
  }
 ],
 "metadata": {
  "kernelspec": {
   "display_name": "conda_python3",
   "language": "python",
   "name": "conda_python3"
  },
  "language_info": {
   "codemirror_mode": {
    "name": "ipython",
    "version": 3
   },
   "file_extension": ".py",
   "mimetype": "text/x-python",
   "name": "python",
   "nbconvert_exporter": "python",
   "pygments_lexer": "ipython3",
   "version": "3.8.12"
  }
 },
 "nbformat": 4,
 "nbformat_minor": 5
}
