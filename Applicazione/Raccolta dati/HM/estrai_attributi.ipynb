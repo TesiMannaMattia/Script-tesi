{
 "cells": [
  {
   "cell_type": "markdown",
   "id": "fa724bab",
   "metadata": {},
   "source": [
    "# Funzione estrazione_attributi"
   ]
  },
  {
   "cell_type": "markdown",
   "id": "8d703351",
   "metadata": {},
   "source": [
    "## Importazione pacchetti\n"
   ]
  },
  {
   "cell_type": "code",
   "execution_count": null,
   "id": "c836f438",
   "metadata": {},
   "outputs": [],
   "source": [
    "from bs4 import BeautifulSoup"
   ]
  },
  {
   "cell_type": "code",
   "execution_count": null,
   "id": "70370a0d",
   "metadata": {},
   "outputs": [],
   "source": [
    "def mini_estrattore(html):\n",
    "    dd=html.find_all(\"dd\")\n",
    "    attributo=\"\"\n",
    "    for j in range(0,len(dd)):\n",
    "        attributi=dd[j].text\n",
    "        if len(dd) > 1 and j > 0 :\n",
    "            attributo = attributo +\",\"+  attributi\n",
    "        else:\n",
    "            attributo = attributi\n",
    "    \n",
    "    return attributo "
   ]
  },
  {
   "cell_type": "markdown",
   "id": "71fc8c1d",
   "metadata": {},
   "source": [
    "## Funzione"
   ]
  },
  {
   "cell_type": "code",
   "execution_count": null,
   "id": "b2901405",
   "metadata": {},
   "outputs": [],
   "source": [
    "def estrazione_attributi(html):\n",
    "    \n",
    "    righe=html.find_all(\"div\")\n",
    "    altro=\"Null\"\n",
    "    materiale=\"Null\"\n",
    "    id_articolo=\"Null\"\n",
    "    for i in range(0,len(righe)):\n",
    "    \n",
    "        #Estrarre nome attributo, composizione, Ulteriori informazioni sul materiale....\n",
    "        nome_attributo=righe[i].find(\"dt\").text\n",
    "    \n",
    "        #Pulire il nome attributo\n",
    "        nome_attributo=nome_attributo.strip().lower()\n",
    "       # print(nome_attributo)\n",
    "        \n",
    "        if nome_attributo == \"composizione\"    :  \n",
    "            #print(i,nome_attributo)\n",
    "            materiale=mini_estrattore(righe[i])\n",
    "        \n",
    "        elif nome_attributo == \"numero di articolo\" or nome_attributo == \"n. art.\" :\n",
    "            #print(i,nome_attributo)\n",
    "            id_articolo=mini_estrattore(righe[i])\n",
    "        \n",
    "        elif nome_attributo==\"ulteriori informazioni sul materiale\":\n",
    "            # print(i,nome_attributo)\n",
    "            altro=mini_estrattore(righe[i])\n",
    "            \n",
    "    return materiale, id_articolo, altro"
   ]
  }
 ],
 "metadata": {
  "kernelspec": {
   "display_name": "conda_python3",
   "language": "python",
   "name": "conda_python3"
  },
  "language_info": {
   "codemirror_mode": {
    "name": "ipython",
    "version": 3
   },
   "file_extension": ".py",
   "mimetype": "text/x-python",
   "name": "python",
   "nbconvert_exporter": "python",
   "pygments_lexer": "ipython3",
   "version": "3.8.12"
  }
 },
 "nbformat": 4,
 "nbformat_minor": 5
}
