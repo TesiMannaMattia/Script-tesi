{
 "cells": [
  {
   "cell_type": "markdown",
   "id": "76d331fa",
   "metadata": {},
   "source": [
    "# Funzione estrazione_sotto_categorie"
   ]
  },
  {
   "cell_type": "markdown",
   "id": "dcddee8c",
   "metadata": {},
   "source": [
    "## Importazione pacchetti"
   ]
  },
  {
   "cell_type": "code",
   "execution_count": null,
   "id": "0f153254",
   "metadata": {},
   "outputs": [],
   "source": [
    "#Importazione pacchetti per selenium\n",
    "from selenium import webdriver\n",
    "from selenium.webdriver.common.keys import Keys\n",
    "from selenium.webdriver.support import expected_conditions as EC\n",
    "from selenium.webdriver.common.by import By\n",
    "from selenium.webdriver.support.wait import WebDriverWait\n",
    "from selenium.webdriver.chrome.options import Options\n",
    "from selenium.webdriver.support.ui import Select\n",
    "#from webdriver_manager.chrome import ChromeDriverManager\n",
    "\n",
    "\n",
    "#Per aprire cartelle\n",
    "import os\n",
    "import wget\n",
    "\n",
    "\n",
    "#Importazione pacchetti per BeautifulSoup\n",
    "import requests\n",
    "from urllib.request import urlopen\n",
    "from bs4 import BeautifulSoup\n",
    "import re\n",
    "\n",
    "#Importazione pacchetti per esportare in csv\n",
    "import pandas as pd  \n",
    "\n",
    "#Per lavorare con le date\n",
    "from datetime import date \n",
    "\n",
    "#Per fare i contatori tempi\n",
    "import time \n",
    "from time import sleep\n",
    "\n",
    "#Pacchetto alive, permette di creare barre di progresso\n",
    "from alive_progress import alive_bar\n",
    "from alive_progress.styles import showtime\n",
    "from alive_progress import alive_it\n",
    "#from tqdm import tqdm as tqdm"
   ]
  },
  {
   "cell_type": "markdown",
   "id": "49530cc8",
   "metadata": {},
   "source": [
    "## Funzione"
   ]
  },
  {
   "cell_type": "code",
   "execution_count": null,
   "id": "e6dc0455",
   "metadata": {},
   "outputs": [],
   "source": [
    "def estrazione_sotto_categorie(link):\n",
    "    \"\"\"\n",
    "    Estrae le sotto categorie dei prodotti dal sito HM.\n",
    "    \"\"\"\n",
    "    #Connessione al sito, presa e parsing HTML\n",
    "    options = Options()\n",
    "    options.add_argument(\"--Mozilla/5.0 (Macintosh; Intel Mac OS X 10_15_7) AppleWebKit/537.36 (KHTML, like Gecko) Chrome/90.0.4430.212 Safari/537.36\")\n",
    "    prefs = {\"profile.managed_default_content_settings.images\": 2} #Per non caricare le immagini\n",
    "    options.add_experimental_option(\"prefs\", prefs)\n",
    "    driver=webdriver.Chrome(\"/Users/mattia/opt/chromedriver\",options=options)\n",
    "    driver.maximize_window()    \n",
    "\n",
    "    #Aprire la pagina web\n",
    "    driver.get(link)\n",
    "    \n",
    "    #Prendere html della pagina web\n",
    "    h=driver.page_source\n",
    " \n",
    "    #Parsing dell'html\n",
    "    html=BeautifulSoup(h,'html.parser')\n",
    "    \n",
    "    #RICERCA TAG, entrare nel blocco delle categorie ed estrarre tutte le tag\n",
    "    #li contenenti i nomi ed i link delle sottocategorie.\n",
    "    ul=html.find(\"ul\",{\"id\":\"menu-links\"})\n",
    "    lista_li=ul.find_all(\"li\",{\"class\":\"list-group\"})\n",
    "    for i in range(0,len(lista_li)):\n",
    "        nome=lista_li[i].find(\"strong\").text.strip()\n",
    "        #print(\"3\",nome,\"1\")\n",
    "        #print(nome)\n",
    "        if nome == \"Acquista per prodotto\":\n",
    "            elemento=lista_li[i]\n",
    "            \n",
    "            break\n",
    "    #    print(nome)\n",
    "    #elemento=lista_li[3]\n",
    "    ull=elemento.find(\"ul\",{\"class\":\"menu\"})\n",
    "    liii=ull.find(\"li\",{\"class\",\"list-group\"})\n",
    "    ul=liii.find(\"ul\",{\"class\" :\"menu\"})\n",
    "    sottocategorie=ul.find_all(\"li\")\n",
    "    \n",
    "    dizionario_sottocategorie={}\n",
    "    for i in range(0,len(sottocategorie)):\n",
    "        #Elemento iterato\n",
    "        tag=sottocategorie[i]\n",
    "        \n",
    "        #Trovare la tag anchor contenente i link ed il nome delle categorie\n",
    "        a=tag.find(\"a\")\n",
    "        \n",
    "        #Estrarre il link\n",
    "        link_categoria=a.get(\"href\")\n",
    "        link_categoria=\"https://www2.hm.com\"+link_categoria\n",
    "        \n",
    "        #Estrarre il testo e pulirlo, pulizia testo per rendere tutto omogeneo\n",
    "        testo=a.text\n",
    "        \n",
    "        testo=testo.strip() #rimuovere spazi\n",
    "        testo=testo.lower() #tutto minuscolo\n",
    "        \n",
    "        #Allocare i valori nel dizionario\n",
    "        dizionario_sottocategorie[testo]=link_categoria\n",
    "    driver.quit()\n",
    "    return dizionario_sottocategorie"
   ]
  }
 ],
 "metadata": {
  "kernelspec": {
   "display_name": "conda_python3",
   "language": "python",
   "name": "conda_python3"
  },
  "language_info": {
   "codemirror_mode": {
    "name": "ipython",
    "version": 3
   },
   "file_extension": ".py",
   "mimetype": "text/x-python",
   "name": "python",
   "nbconvert_exporter": "python",
   "pygments_lexer": "ipython3",
   "version": "3.8.12"
  }
 },
 "nbformat": 4,
 "nbformat_minor": 5
}
