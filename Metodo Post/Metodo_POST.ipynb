{
 "cells": [
  {
   "cell_type": "markdown",
   "id": "6edd0e91-1ab6-4dd1-a927-48b1e67d5a05",
   "metadata": {},
   "source": [
    "# BeautifulSoup"
   ]
  },
  {
   "cell_type": "markdown",
   "id": "06a00e48-8f21-4c9c-a2d8-40399b05103d",
   "metadata": {},
   "source": [
    "## Il metodo POST\n",
    "Tramite questo metodo è possibile effettuare scraping a siti per i quali il metodo GET non produce risultati.  \n",
    "Il metodo POST permette di utilizzare utilizzare degli headers ed effettuare semplici interazioni con il sito."
   ]
  },
  {
   "cell_type": "markdown",
   "id": "4e128b69-abbf-41ab-9078-2eac0a8ee23d",
   "metadata": {},
   "source": [
    "### Importazione pacchetti"
   ]
  },
  {
   "cell_type": "code",
   "execution_count": 3,
   "id": "79954d40-546b-40ea-9618-3a687d87cd6a",
   "metadata": {},
   "outputs": [],
   "source": [
    "import requests\n",
    "from urllib.request import urlopen\n",
    "import time \n",
    "from bs4 import BeautifulSoup\n",
    "import re"
   ]
  },
  {
   "cell_type": "markdown",
   "id": "2deb14af-6c95-405d-9e97-8af0703c3bc8",
   "metadata": {},
   "source": [
    "### Parametri di connessione \n",
    "In questo blocco di codice si stabiliscono :\n",
    "- campi con i quali interagire e cosa scriverci\n",
    "- headers\n",
    "- link del sito su cui effettuare scraping"
   ]
  },
  {
   "cell_type": "code",
   "execution_count": 4,
   "id": "e6f531d1-a2d5-41da-9c2b-f729f073aebc",
   "metadata": {},
   "outputs": [],
   "source": [
    "post_params={'searchfield_required':'Please enter at least 3 characters in the Active Ingredient field.',\n",
    "             'searchfield': 'fentanyl','submit': 'Submit Query'}\n",
    "\n",
    "headers={\n",
    "'accept': 'text/html,application/xhtml+xml,application/xml;q=0.9,image/avif,image/webp,image/apng,*/*;q=0.8,application/signed-exchange;v=b3;q=0.9'\n",
    ",'accept-encoding': 'gzip, deflate, br',\n",
    "'accept-language': 'it-IT,it;q=0.9,en-US;q=0.8,en;q=0.7',\n",
    "'cache-control': 'max-age=0',\n",
    "'content-length': '128',\n",
    "'content-type': 'application/x-www-form-urlencoded',\n",
    "'origin': 'https://labels.fda.gov',\n",
    "'referer': 'https://labels.fda.gov/ingredientName.cfm',\n",
    "'user-agent': 'Mozilla/5.0 (Macintosh; Intel Mac OS X 10_15_7) AppleWebKit/537.36 (KHTML, like Gecko) Chrome/90.0.4430.212 Safari/537.36'}\n",
    "\n",
    "url='https://labels.fda.gov/getIngredientName.cfm'"
   ]
  },
  {
   "cell_type": "markdown",
   "id": "9669b813-3320-4dd5-bc3f-cadc3fea36d1",
   "metadata": {},
   "source": [
    "### Ottenere dati da un sito ed estrarne html"
   ]
  },
  {
   "cell_type": "code",
   "execution_count": 6,
   "id": "600e5a22-aa57-496a-b16a-bc322e878647",
   "metadata": {},
   "outputs": [
    {
     "name": "stdout",
     "output_type": "stream",
     "text": [
      "<Response [200]>\n"
     ]
    }
   ],
   "source": [
    "response=requests.post(url,data=post_params,headers=headers)\n",
    "soup=BeautifulSoup(response.text,'html.parser')\n",
    "print(response)"
   ]
  },
  {
   "cell_type": "markdown",
   "id": "86437032-2368-43a8-b075-5fd16f76fa8b",
   "metadata": {},
   "source": [
    "### Estrazione degli elementi ricercati dall'html"
   ]
  },
  {
   "cell_type": "code",
   "execution_count": 7,
   "id": "e4cacfe0-edc4-4d11-8efb-c33c08c3fee6",
   "metadata": {},
   "outputs": [
    {
     "name": "stdout",
     "output_type": "stream",
     "text": [
      "accesso\n",
      "lista dati creata\n"
     ]
    }
   ],
   "source": [
    "rows=soup.find_all(\"tr\")\n",
    "lista=[]\n",
    "for row in rows:\n",
    "    lista.append(row.select(\"td\"))\n",
    "\n",
    "dati=[]\n",
    "for k in lista:\n",
    "    provvisoria=[]\n",
    "    for i in k :\n",
    "        provvisoria.append(str((i.get_text())).replace(u'\\xa0', u''))\n",
    "    dati.append(provvisoria)\n",
    "\n",
    "print('Lista dati creata')"
   ]
  },
  {
   "cell_type": "markdown",
   "id": "773b1b59-6b6a-4c97-b932-c3edd465b1ca",
   "metadata": {},
   "source": [
    "### Esportazione dei dati ottenuti in formato csv"
   ]
  },
  {
   "cell_type": "code",
   "execution_count": 9,
   "id": "6d313e84-2579-421a-9ad5-bf32be619bca",
   "metadata": {},
   "outputs": [
    {
     "name": "stdout",
     "output_type": "stream",
     "text": [
      "csv creato\n"
     ]
    }
   ],
   "source": [
    "import csv \n",
    "Details = ['Ingredient Name', 'NDC', 'Company Name', 'Application Number or Regulatory Citation','Product Type','Marketing Category']  \n",
    "with open('/Users/mattia/Desktop/web.csv', 'w+') as f: \n",
    "    write = csv.writer(f) \n",
    "    write.writerow(Details) \n",
    "    write.writerows(dati) \n",
    "        \n",
    "print('Il csv è stato creato')"
   ]
  }
 ],
 "metadata": {
  "kernelspec": {
   "display_name": "Python 3 (ipykernel)",
   "language": "python",
   "name": "python3"
  },
  "language_info": {
   "codemirror_mode": {
    "name": "ipython",
    "version": 3
   },
   "file_extension": ".py",
   "mimetype": "text/x-python",
   "name": "python",
   "nbconvert_exporter": "python",
   "pygments_lexer": "ipython3",
   "version": "3.10.4"
  }
 },
 "nbformat": 4,
 "nbformat_minor": 5
}
