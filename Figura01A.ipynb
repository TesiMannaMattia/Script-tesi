{
  "nbformat": 4,
  "nbformat_minor": 0,
  "metadata": {
    "colab": {
      "provenance": []
    },
    "kernelspec": {
      "name": "python3",
      "display_name": "Python 3"
    },
    "language_info": {
      "name": "python"
    }
  },
  "cells": [
    {
      "cell_type": "code",
      "execution_count": null,
      "metadata": {
        "id": "9YCHLiF1oZUi"
      },
      "outputs": [],
      "source": [
        "#Importazione dei dati relativi al BTC\n",
        "bitcoin <- read.csv(\"~/Desktop/Trading/Dataset/btc_bars.csv\", header=FALSE)\n",
        "colnames(bitcoin) <- c(\"Open time\",\"Open\",\"High\",\"Low\",\"Close\",\"Volume\",\" Close time\",\n",
        "\"Quote asset volume\",\"Number of trades\",\"Taker buy base asset volume\",\n",
        "\"Taker buy quote asset volume\",\"Ignore\")\n",
        "\n",
        "#Importazione delle date utili per fini grafici\n",
        "date <- read.csv(\"/Users/mattia/Desktop/Trading/Dataset/date.csv\", header=FALSE)\n",
        "colnames(date) <- c(\"Numero di giorni\",\"Data\")\n",
        "date <- date[2:nrow(date),]\n",
        "\n",
        "#Bind dei due dataset importati e riscrittura in csv\n",
        "serie_storica <- cbind(bitcoin,date)\n",
        "write.csv(serie_storica,\n",
        "file = \"/Users/mattia/Desktop/Trading/Dataset/seriestorica_BTCEUR.csv\")\n",
        "\n",
        "#Rimozione dei vecchi dataset ormai inutili perch`e uniti\n",
        "rm(bitcoin)\n",
        "rm(date)\n",
        "\n",
        "#Trasformazione della variabili data in formato data\n",
        "serie_storica$Data <- as.Date(serie_storica$Data)\n",
        "\n",
        "#Importazione librerie\n",
        "library(ggplot2)\n",
        "library(tidyverse)\n",
        "library(scales)\n",
        "\n",
        "#Creazione del grafico\n",
        "grafico_btc<- ggplot(serie_storica, aes(x = Data, y = Close)) +\n",
        "ggtitle(\"Andamento del Bitcoin\") +\n",
        "xlab(\"Data, formato ’YYYY-MM-DD’\") + ylab(\"Prezzo del BTC\") +\n",
        "geom_line() +\n",
        "scale_x_date(date_breaks = \"3 month\",date_labels = \"%Y-%m-%d\")+\n",
        "theme(axis.text.x=element_text(angle=60, hjust=1),\n",
        "plot.title=element_text(color=\"black\", size=14, face=\"bold.italic\",hjust = 0.5))\n",
        "+scale_y_continuous(labels = function(x) paste0(x, \"€\"))\n",
        "ggsave(\"/Users/mattia/Desktop/Trading/grafico_btc.pdf\",\n",
        "width = 10, height = 4,encoding = \"ISOLatin9.enc\")\n",
        "\n"
      ]
    }
  ]
}