{
 "cells": [
  {
   "cell_type": "markdown",
   "id": "ecdf03f8",
   "metadata": {},
   "source": [
    "# Funzione  scrollare_tutta_la_pagina"
   ]
  },
  {
   "cell_type": "markdown",
   "id": "cc3833a8",
   "metadata": {},
   "source": [
    "## Importazione pacchetti per selenium"
   ]
  },
  {
   "cell_type": "code",
   "execution_count": null,
   "id": "9dd35166",
   "metadata": {},
   "outputs": [],
   "source": [
    "from selenium import webdriver\n",
    "from selenium.webdriver.common.keys import Keys\n",
    "from selenium.webdriver.support import expected_conditions as EC\n",
    "from selenium.webdriver.common.by import By\n",
    "from selenium.webdriver.support.wait import WebDriverWait\n",
    "from selenium.webdriver.chrome.options import Options\n",
    "from selenium.webdriver.support.ui import Select\n",
    "import time "
   ]
  },
  {
   "cell_type": "markdown",
   "id": "5520e06f",
   "metadata": {},
   "source": [
    "## Funzione"
   ]
  },
  {
   "cell_type": "code",
   "execution_count": null,
   "id": "5958da59",
   "metadata": {},
   "outputs": [],
   "source": [
    "def scrollare_tutta_la_pagina():\n",
    "    #Grazie Tech Path link al canale youtube : 'https://www.youtube.com/watch?v=qhJ_gMB772U'\n",
    "    previous_height=driver.execute_script('return document.body.scrollHeight')\n",
    "    while True:\n",
    "        time.sleep(1)\n",
    "        print(\"Loop\")\n",
    "        driver.execute_script('window.scrollTo(0,document.body.scrollHeight)')\n",
    "        time.sleep(1)\n",
    "        new_height=driver.execute_script('return document.body.scrollHeight')\n",
    "        if new_height == previous_height :\n",
    "            break\n",
    "        previous_height = new_height"
   ]
  }
 ],
 "metadata": {
  "kernelspec": {
   "display_name": "conda_python3",
   "language": "python",
   "name": "conda_python3"
  },
  "language_info": {
   "codemirror_mode": {
    "name": "ipython",
    "version": 3
   },
   "file_extension": ".py",
   "mimetype": "text/x-python",
   "name": "python",
   "nbconvert_exporter": "python",
   "pygments_lexer": "ipython3",
   "version": "3.8.12"
  }
 },
 "nbformat": 4,
 "nbformat_minor": 5
}
