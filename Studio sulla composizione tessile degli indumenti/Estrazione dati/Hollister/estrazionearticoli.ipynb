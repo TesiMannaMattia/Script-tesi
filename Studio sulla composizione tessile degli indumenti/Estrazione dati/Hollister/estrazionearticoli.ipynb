{
 "cells": [
  {
   "cell_type": "markdown",
   "id": "e209809b",
   "metadata": {},
   "source": [
    "# Funzione estrazione_articoli \n"
   ]
  },
  {
   "cell_type": "markdown",
   "id": "a1e1cd69",
   "metadata": {},
   "source": [
    "## Importazione pacchetti"
   ]
  },
  {
   "cell_type": "code",
   "execution_count": null,
   "id": "8e3f560f",
   "metadata": {},
   "outputs": [],
   "source": [
    "#Importazione pacchetti per selenium\n",
    "from selenium import webdriver\n",
    "from selenium.webdriver.common.keys import Keys\n",
    "from selenium.webdriver.support import expected_conditions as EC\n",
    "from selenium.webdriver.common.by import By\n",
    "from selenium.webdriver.support.wait import WebDriverWait\n",
    "from selenium.webdriver.chrome.options import Options\n",
    "import os\n",
    "import wget\n",
    "import time \n",
    "\n",
    "#Importazione pacchetti per BeautifulSoup\n",
    "import requests\n",
    "from urllib.request import urlopen\n",
    "from bs4 import BeautifulSoup\n",
    "import re\n",
    "\n",
    "#Importazione pacchetti per esportare in csv\n",
    "import pandas as pd  \n",
    "\n",
    "#Per lavorare con le date\n",
    "from datetime import date "
   ]
  },
  {
   "cell_type": "markdown",
   "id": "ba2aed58",
   "metadata": {},
   "source": [
    "## Headers"
   ]
  },
  {
   "cell_type": "code",
   "execution_count": null,
   "id": "ab449691",
   "metadata": {},
   "outputs": [],
   "source": [
    "headers={\n",
    "'accept': 'text/html,application/xhtml+xml,application/xml;q=0.9,image/avif,image/webp,image/apng,*/*;q=0.8,application/signed-exchange;v=b3;q=0.9'\n",
    ",'accept-encoding': 'gzip, deflate, br',\n",
    "'accept-language': 'it-IT,it;q=0.9,en-US;q=0.8,en;q=0.7',\n",
    "'cache-control': 'max-age=0',\n",
    "'content-length': '128',\n",
    "'content-type': 'application/x-www-form-urlencoded',\n",
    "'origin': 'https://labels.fda.gov',\n",
    "'referer': 'https://labels.fda.gov/ingredientName.cfm',\n",
    "'user-agent': 'Mozilla/5.0 (Macintosh; Intel Mac OS X 10_15_7) AppleWebKit/537.36 (KHTML, like Gecko) Chrome/90.0.4430.210 Safari/537.36'}"
   ]
  },
  {
   "cell_type": "markdown",
   "id": "9ed54d77",
   "metadata": {},
   "source": [
    "## Funzione"
   ]
  },
  {
   "cell_type": "code",
   "execution_count": null,
   "id": "c612db1f",
   "metadata": {},
   "outputs": [],
   "source": [
    "def estrazione_articoli(lista):\n",
    "    \"\"\"\n",
    "    Questa funzione estrae dalla sezione degli articoli tutti i nomi dei prodotti e i loro link alla pagina dedicata.\n",
    "    Una volta estratti gli argomenti vengono inseriti in un dizionario.\n",
    "    La chiave del dizionario è il nome del prodotto.\n",
    "    \"\"\"\n",
    "    #Connessione al sito, presa e parsing HTML\n",
    "    dizionario_articoli={}\n",
    "    for i in range(0,len(lista)):\n",
    "        \n",
    "        #testo=listahtml[i]\n",
    "        #print(len(testo),type(testo))\n",
    "        response=requests.post(lista[i],headers=headers)\n",
    "        soup=BeautifulSoup(response.text,'html.parser')\n",
    "        \n",
    "\n",
    "        #Estrazione \n",
    "        articoli=soup.find_all(\"a\",{\"class\":\"product-card__name\"})\n",
    "\n",
    "        #Creazione dizionario\n",
    "        \n",
    "\n",
    "        for j in range(0,len(articoli)):\n",
    "    \n",
    "            #ESTRAZIONE DEL LINK\n",
    "            link_articolo=articoli[j].get('href')\n",
    "            link_articolo=\"https://www.hollisterco.com\"+link_articolo\n",
    "    \n",
    "            #NOME ARTICOLO\n",
    "            nome_articolo=articoli[j].text\n",
    "        \n",
    "            #CREAZIONE DIZIONARIO DEGLI ARTICOLI\n",
    "            dizionario_articoli[nome_articolo]=link_articolo\n",
    "        \n",
    "\n",
    "    \n",
    "\n",
    "    return dizionario_articoli"
   ]
  }
 ],
 "metadata": {
  "kernelspec": {
   "display_name": "conda_python3",
   "language": "python",
   "name": "conda_python3"
  },
  "language_info": {
   "codemirror_mode": {
    "name": "ipython",
    "version": 3
   },
   "file_extension": ".py",
   "mimetype": "text/x-python",
   "name": "python",
   "nbconvert_exporter": "python",
   "pygments_lexer": "ipython3",
   "version": "3.8.12"
  }
 },
 "nbformat": 4,
 "nbformat_minor": 5
}
